{
  "nbformat": 4,
  "nbformat_minor": 0,
  "metadata": {
    "colab": {
      "provenance": [],
      "collapsed_sections": [],
      "authorship_tag": "ABX9TyPepEnRouCpVBhGyn44SmGy",
      "include_colab_link": true
    },
    "kernelspec": {
      "name": "python3",
      "display_name": "Python 3"
    },
    "language_info": {
      "name": "python"
    }
  },
  "cells": [
    {
      "cell_type": "markdown",
      "metadata": {
        "id": "view-in-github",
        "colab_type": "text"
      },
      "source": [
        "<a href=\"https://colab.research.google.com/github/Biocanter/fastbook/blob/master/RNAfold_sequence_parameters.ipynb\" target=\"_parent\"><img src=\"https://colab.research.google.com/assets/colab-badge.svg\" alt=\"Open In Colab\"/></a>"
      ]
    },
    {
      "cell_type": "markdown",
      "source": [
        "**Exploratory Data Analysis (EDA) of Combinatorial optimization of mRNA structure, stability, and translation for RNA-based therapeutics**\n",
        "\n",
        "Kathrin Leppek.et al. 2022\n",
        "\n",
        "https://daslab.stanford.edu/site_data/pub_pdf/LeppekEtAl_NatureCommunications_2022.pdf\n",
        "\n",
        "The goal of this notebook is to reproduce some mRNA sequence parameters as GC content, free energy MFE structure (ViennaRNA).\n"
      ],
      "metadata": {
        "id": "qjvMf2V2Lp96"
      }
    },
    {
      "cell_type": "markdown",
      "source": [
        "You cand find the data in this link https://static-content.springer.com/esm/art%3A10.1038%2Fs41467-022-28776-w/MediaObjects/41467_2022_28776_MOESM4_ESM.zip\n",
        "\n",
        "Download & extract excel and then load: Supplementary Data 1 - Attributes for pooled 233 sequences\n",
        "\n",
        "Ángel Cantero-Camacho, PhD\n",
        "\n",
        "https://www.linkedin.com/in/biocanter/\n",
        "\n",
        "09-08-2022"
      ],
      "metadata": {
        "id": "6oqC-ROINNWB"
      }
    },
    {
      "cell_type": "code",
      "source": [
        "###install first conda enviroment\n",
        "!pip install -q condacolab\n",
        "import condacolab\n",
        "condacolab.install()\n",
        "###install ViennaRNA\n",
        "!conda install -c bioconda viennarna\n",
        "###install biopython\n",
        "!pip install biopython"
      ],
      "metadata": {
        "colab": {
          "base_uri": "https://localhost:8080/"
        },
        "id": "ywf2c-lCLof-",
        "outputId": "50b5ee02-c38a-4b49-ec4c-2bd10a1f5997"
      },
      "execution_count": null,
      "outputs": [
        {
          "output_type": "stream",
          "name": "stdout",
          "text": [
            "\u001b[33mWARNING: Running pip as the 'root' user can result in broken permissions and conflicting behaviour with the system package manager. It is recommended to use a virtual environment instead: https://pip.pypa.io/warnings/venv\u001b[0m\u001b[33m\n",
            "\u001b[0m✨🍰✨ Everything looks OK!\n",
            "Collecting package metadata (current_repodata.json): - \b\b\\ \b\b| \b\b/ \b\b- \b\b\\ \b\b| \b\b/ \b\b- \b\b\\ \b\b| \b\b/ \b\b- \b\b\\ \b\b| \b\b/ \b\b- \b\b\\ \b\b| \b\b/ \b\b- \b\b\\ \b\b| \b\b/ \b\b- \b\b\\ \b\b| \b\b/ \b\b- \b\b\\ \b\b| \b\b/ \b\b- \b\b\\ \b\b| \b\b/ \b\b- \b\b\\ \b\b| \b\b/ \b\b- \b\b\\ \b\b| \b\b/ \b\b- \b\b\\ \b\b| \b\b/ \b\b- \b\b\\ \b\b| \b\b/ \b\b- \b\b\\ \b\b| \b\b/ \b\b- \b\b\\ \b\b| \b\b/ \b\b- \b\b\\ \b\b| \b\b/ \b\b- \b\b\\ \b\b| \b\b/ \b\b- \b\b\\ \b\b| \b\b/ \b\b- \b\b\\ \b\b| \b\b/ \b\b- \b\b\\ \b\b| \b\b/ \b\b- \b\b\\ \b\b| \b\b/ \b\b- \b\b\\ \b\b| \b\b/ \b\b- \b\b\\ \b\b| \b\b/ \b\b- \b\b\\ \b\b| \b\b/ \b\b- \b\b\\ \b\b| \b\b/ \b\b- \b\b\\ \b\b| \b\b/ \b\b- \b\b\\ \b\b| \b\b/ \b\b- \b\b\\ \b\b| \b\b/ \b\b- \b\b\\ \b\b| \b\b/ \b\b- \b\b\\ \b\b| \b\b/ \b\b- \b\b\\ \b\b| \b\b/ \b\b- \b\b\\ \b\b| \b\b/ \b\b- \b\b\\ \b\b| \b\b/ \b\b- \b\b\\ \b\b| \b\b/ \b\b- \b\b\\ \b\b| \b\b/ \b\b- \b\b\\ \b\bdone\n",
            "Solving environment: / \b\b- \b\b\\ \b\b| \b\b/ \b\b- \b\b\\ \b\b| \b\b/ \b\b- \b\b\\ \b\b| \b\b/ \b\b- \b\b\\ \b\b| \b\b/ \b\bdone\n",
            "\n",
            "# All requested packages already installed.\n",
            "\n",
            "Retrieving notices: ...working... done\n",
            "Looking in indexes: https://pypi.org/simple, https://us-python.pkg.dev/colab-wheels/public/simple/\n",
            "Requirement already satisfied: biopython in /usr/local/lib/python3.7/site-packages (1.79)\n",
            "Requirement already satisfied: numpy in /usr/local/lib/python3.7/site-packages (from biopython) (1.21.6)\n",
            "\u001b[33mWARNING: Running pip as the 'root' user can result in broken permissions and conflicting behaviour with the system package manager. It is recommended to use a virtual environment instead: https://pip.pypa.io/warnings/venv\u001b[0m\u001b[33m\n",
            "\u001b[0m"
          ]
        }
      ]
    },
    {
      "cell_type": "code",
      "source": [
        "###import libraries\n",
        "import pandas as pd\n",
        "import numpy as np\n",
        "###mount drive to acces to excel file\n",
        "from google.colab import drive\n",
        "drive.mount('/content/drive')\n",
        "###path to excel file (you need to add your own path)\n",
        "File=\"/content/drive/MyDrive/Colab Notebooks//Supp1_mRNA_DAS.xlsx\""
      ],
      "metadata": {
        "colab": {
          "base_uri": "https://localhost:8080/",
          "height": 387
        },
        "id": "Ew-uMo_-OK8R",
        "outputId": "c29565cf-63cf-4347-d823-c365a3035cd9"
      },
      "execution_count": null,
      "outputs": [
        {
          "output_type": "error",
          "ename": "MessageError",
          "evalue": "ignored",
          "traceback": [
            "\u001b[0;31m---------------------------------------------------------------------------\u001b[0m",
            "\u001b[0;31mMessageError\u001b[0m                              Traceback (most recent call last)",
            "\u001b[0;32m<ipython-input-1-b5d7260b9cdf>\u001b[0m in \u001b[0;36m<module>\u001b[0;34m\u001b[0m\n\u001b[1;32m      4\u001b[0m \u001b[0;31m###mount drive to acces to excel file\u001b[0m\u001b[0;34m\u001b[0m\u001b[0;34m\u001b[0m\u001b[0;34m\u001b[0m\u001b[0m\n\u001b[1;32m      5\u001b[0m \u001b[0;32mfrom\u001b[0m \u001b[0mgoogle\u001b[0m\u001b[0;34m.\u001b[0m\u001b[0mcolab\u001b[0m \u001b[0;32mimport\u001b[0m \u001b[0mdrive\u001b[0m\u001b[0;34m\u001b[0m\u001b[0;34m\u001b[0m\u001b[0m\n\u001b[0;32m----> 6\u001b[0;31m \u001b[0mdrive\u001b[0m\u001b[0;34m.\u001b[0m\u001b[0mmount\u001b[0m\u001b[0;34m(\u001b[0m\u001b[0;34m'/content/drive'\u001b[0m\u001b[0;34m)\u001b[0m\u001b[0;34m\u001b[0m\u001b[0;34m\u001b[0m\u001b[0m\n\u001b[0m\u001b[1;32m      7\u001b[0m \u001b[0;31m###path to excel file (you need to add your own path)\u001b[0m\u001b[0;34m\u001b[0m\u001b[0;34m\u001b[0m\u001b[0;34m\u001b[0m\u001b[0m\n\u001b[1;32m      8\u001b[0m \u001b[0mFile\u001b[0m\u001b[0;34m=\u001b[0m\u001b[0;34m\"/content/drive/MyDrive/Colab Notebooks//Supp1_mRNA_DAS.xlsx\"\u001b[0m\u001b[0;34m\u001b[0m\u001b[0;34m\u001b[0m\u001b[0m\n",
            "\u001b[0;32m/usr/local/lib/python3.7/dist-packages/google/colab/drive.py\u001b[0m in \u001b[0;36mmount\u001b[0;34m(mountpoint, force_remount, timeout_ms)\u001b[0m\n\u001b[1;32m    103\u001b[0m       \u001b[0mforce_remount\u001b[0m\u001b[0;34m=\u001b[0m\u001b[0mforce_remount\u001b[0m\u001b[0;34m,\u001b[0m\u001b[0;34m\u001b[0m\u001b[0;34m\u001b[0m\u001b[0m\n\u001b[1;32m    104\u001b[0m       \u001b[0mtimeout_ms\u001b[0m\u001b[0;34m=\u001b[0m\u001b[0mtimeout_ms\u001b[0m\u001b[0;34m,\u001b[0m\u001b[0;34m\u001b[0m\u001b[0;34m\u001b[0m\u001b[0m\n\u001b[0;32m--> 105\u001b[0;31m       ephemeral=True)\n\u001b[0m\u001b[1;32m    106\u001b[0m \u001b[0;34m\u001b[0m\u001b[0m\n\u001b[1;32m    107\u001b[0m \u001b[0;34m\u001b[0m\u001b[0m\n",
            "\u001b[0;32m/usr/local/lib/python3.7/dist-packages/google/colab/drive.py\u001b[0m in \u001b[0;36m_mount\u001b[0;34m(mountpoint, force_remount, timeout_ms, ephemeral)\u001b[0m\n\u001b[1;32m    118\u001b[0m   \u001b[0;32mif\u001b[0m \u001b[0mephemeral\u001b[0m\u001b[0;34m:\u001b[0m\u001b[0;34m\u001b[0m\u001b[0;34m\u001b[0m\u001b[0m\n\u001b[1;32m    119\u001b[0m     _message.blocking_request(\n\u001b[0;32m--> 120\u001b[0;31m         'request_auth', request={'authType': 'dfs_ephemeral'}, timeout_sec=None)\n\u001b[0m\u001b[1;32m    121\u001b[0m \u001b[0;34m\u001b[0m\u001b[0m\n\u001b[1;32m    122\u001b[0m   \u001b[0mmountpoint\u001b[0m \u001b[0;34m=\u001b[0m \u001b[0m_os\u001b[0m\u001b[0;34m.\u001b[0m\u001b[0mpath\u001b[0m\u001b[0;34m.\u001b[0m\u001b[0mexpanduser\u001b[0m\u001b[0;34m(\u001b[0m\u001b[0mmountpoint\u001b[0m\u001b[0;34m)\u001b[0m\u001b[0;34m\u001b[0m\u001b[0;34m\u001b[0m\u001b[0m\n",
            "\u001b[0;32m/usr/local/lib/python3.7/dist-packages/google/colab/_message.py\u001b[0m in \u001b[0;36mblocking_request\u001b[0;34m(request_type, request, timeout_sec, parent)\u001b[0m\n\u001b[1;32m    169\u001b[0m   request_id = send_request(\n\u001b[1;32m    170\u001b[0m       request_type, request, parent=parent, expect_reply=True)\n\u001b[0;32m--> 171\u001b[0;31m   \u001b[0;32mreturn\u001b[0m \u001b[0mread_reply_from_input\u001b[0m\u001b[0;34m(\u001b[0m\u001b[0mrequest_id\u001b[0m\u001b[0;34m,\u001b[0m \u001b[0mtimeout_sec\u001b[0m\u001b[0;34m)\u001b[0m\u001b[0;34m\u001b[0m\u001b[0;34m\u001b[0m\u001b[0m\n\u001b[0m",
            "\u001b[0;32m/usr/local/lib/python3.7/dist-packages/google/colab/_message.py\u001b[0m in \u001b[0;36mread_reply_from_input\u001b[0;34m(message_id, timeout_sec)\u001b[0m\n\u001b[1;32m    100\u001b[0m         reply.get('colab_msg_id') == message_id):\n\u001b[1;32m    101\u001b[0m       \u001b[0;32mif\u001b[0m \u001b[0;34m'error'\u001b[0m \u001b[0;32min\u001b[0m \u001b[0mreply\u001b[0m\u001b[0;34m:\u001b[0m\u001b[0;34m\u001b[0m\u001b[0;34m\u001b[0m\u001b[0m\n\u001b[0;32m--> 102\u001b[0;31m         \u001b[0;32mraise\u001b[0m \u001b[0mMessageError\u001b[0m\u001b[0;34m(\u001b[0m\u001b[0mreply\u001b[0m\u001b[0;34m[\u001b[0m\u001b[0;34m'error'\u001b[0m\u001b[0;34m]\u001b[0m\u001b[0;34m)\u001b[0m\u001b[0;34m\u001b[0m\u001b[0;34m\u001b[0m\u001b[0m\n\u001b[0m\u001b[1;32m    103\u001b[0m       \u001b[0;32mreturn\u001b[0m \u001b[0mreply\u001b[0m\u001b[0;34m.\u001b[0m\u001b[0mget\u001b[0m\u001b[0;34m(\u001b[0m\u001b[0;34m'data'\u001b[0m\u001b[0;34m,\u001b[0m \u001b[0;32mNone\u001b[0m\u001b[0;34m)\u001b[0m\u001b[0;34m\u001b[0m\u001b[0;34m\u001b[0m\u001b[0m\n\u001b[1;32m    104\u001b[0m \u001b[0;34m\u001b[0m\u001b[0m\n",
            "\u001b[0;31mMessageError\u001b[0m: Error: credential propagation was unsuccessful"
          ]
        }
      ]
    },
    {
      "cell_type": "code",
      "source": [
        "####ViennaRNA python instructions: https://www.tbi.univie.ac.at/RNA/ViennaRNA/doc/html/helloworld_swig.html\n",
        "import RNA\n",
        "seq = \"GAGUAGUGGAACCAGGCUAUGUUUGUGACUCGCAGACUAACA\"\n",
        " # compute minimum free energy (MFE) and corresponding structure\n",
        " ###ss.- Secondary Structure\n",
        " ###MFE.-Minimal Free Energy \n",
        "(ss, mfe) = RNA.fold(seq)\n",
        " # print output\n",
        "print(\"{}\\n{} [ {:6.2f} ]\".format(seq, ss, mfe))"
      ],
      "metadata": {
        "id": "vGEeZ2HDR_xb",
        "colab": {
          "base_uri": "https://localhost:8080/"
        },
        "outputId": "ed3cca8e-3e34-4009-f166-efb4b0366947"
      },
      "execution_count": null,
      "outputs": [
        {
          "output_type": "stream",
          "name": "stdout",
          "text": [
            "GAGUAGUGGAACCAGGCUAUGUUUGUGACUCGCAGACUAACA\n",
            "..(((((........)))))(((((((...)))))))..... [  -8.80 ]\n"
          ]
        }
      ]
    },
    {
      "cell_type": "code",
      "source": [
        "###load data into panda dataframe\n",
        "df = pd.read_excel(File)"
      ],
      "metadata": {
        "id": "LEEg3NG-aefp"
      },
      "execution_count": null,
      "outputs": []
    },
    {
      "cell_type": "code",
      "source": [
        "##function to apply to panda columns\n",
        "def fold_RNA(seq):\n",
        "  (ss, mfe) = RNA.fold(seq)\n",
        "  return (pd.Series([ss, mfe]))"
      ],
      "metadata": {
        "id": "FPQzQ-CKUa_b"
      },
      "execution_count": null,
      "outputs": []
    },
    {
      "cell_type": "code",
      "source": [
        "##Use fold_RNA function in order to calculate secondary ss and MFE\n",
        "temp_serie=df['RNA sequence'].apply(fold_RNA)\n",
        "####create \n",
        "df['ss_mRNA'], df['mfe_vienna']=temp_serie[0],temp_serie[1]"
      ],
      "metadata": {
        "id": "Vfd3Y8ziWLGy"
      },
      "execution_count": null,
      "outputs": []
    },
    {
      "cell_type": "code",
      "source": [
        "##compare both parameters \n",
        "###recently calculated \n",
        "print (df['mfe_vienna'])\n",
        "### Paper paramaters\n",
        "print (df['dG(MFE) Vienna'])\n",
        "###plot it\n",
        "import plotly.express as px\n",
        "fig = px.scatter(df, x=\"mfe_vienna\", y=\"dG(MFE) Vienna\")\n",
        "fig.show()"
      ],
      "metadata": {
        "colab": {
          "base_uri": "https://localhost:8080/",
          "height": 959
        },
        "id": "85KcYoTtQ6jl",
        "outputId": "04e9774e-f499-4899-e658-2fa80dbd35c0"
      },
      "execution_count": null,
      "outputs": [
        {
          "output_type": "stream",
          "name": "stdout",
          "text": [
            "0     -395.000000\n",
            "1     -352.100006\n",
            "2     -375.700012\n",
            "3     -375.299988\n",
            "4     -369.899994\n",
            "          ...    \n",
            "228   -289.440002\n",
            "229   -340.600006\n",
            "230   -272.200012\n",
            "231   -284.600006\n",
            "232   -316.799988\n",
            "Name: mfe_vienna, Length: 233, dtype: float64\n",
            "0         NaN\n",
            "1         NaN\n",
            "2         NaN\n",
            "3         NaN\n",
            "4         NaN\n",
            "        ...  \n",
            "228   -289.44\n",
            "229   -340.60\n",
            "230   -272.20\n",
            "231   -284.60\n",
            "232   -316.80\n",
            "Name: dG(MFE) Vienna, Length: 233, dtype: float64\n"
          ]
        },
        {
          "output_type": "display_data",
          "data": {
            "text/html": [
              "<html>\n",
              "<head><meta charset=\"utf-8\" /></head>\n",
              "<body>\n",
              "    <div>            <script src=\"https://cdnjs.cloudflare.com/ajax/libs/mathjax/2.7.5/MathJax.js?config=TeX-AMS-MML_SVG\"></script><script type=\"text/javascript\">if (window.MathJax) {MathJax.Hub.Config({SVG: {font: \"STIX-Web\"}});}</script>                <script type=\"text/javascript\">window.PlotlyConfig = {MathJaxConfig: 'local'};</script>\n",
              "        <script src=\"https://cdn.plot.ly/plotly-2.8.3.min.js\"></script>                <div id=\"a451945f-6a87-41ea-b9d1-d0dde9cc42e3\" class=\"plotly-graph-div\" style=\"height:525px; width:100%;\"></div>            <script type=\"text/javascript\">                                    window.PLOTLYENV=window.PLOTLYENV || {};                                    if (document.getElementById(\"a451945f-6a87-41ea-b9d1-d0dde9cc42e3\")) {                    Plotly.newPlot(                        \"a451945f-6a87-41ea-b9d1-d0dde9cc42e3\",                        [{\"hovertemplate\":\"mfe_vienna=%{x}<br>dG(MFE) Vienna=%{y}<extra></extra>\",\"legendgroup\":\"\",\"marker\":{\"color\":\"#636efa\",\"symbol\":\"circle\"},\"mode\":\"markers\",\"name\":\"\",\"orientation\":\"v\",\"showlegend\":false,\"x\":[-395.0,-352.1000061035156,-375.70001220703125,-375.29998779296875,-369.8999938964844,-392.29998779296875,-337.20001220703125,-373.1000061035156,-408.5,-384.0,-422.5,-365.29998779296875,-438.29998779296875,-427.29998779296875,-354.6000061035156,-369.79998779296875,-381.0,-395.79998779296875,-385.5,-393.3999938964844,-286.5,-283.0,-359.3999938964844,-356.3999938964844,-393.20001220703125,-538.4000244140625,-412.70001220703125,-419.29998779296875,-373.20001220703125,-357.0,-365.0,-395.20001220703125,-417.1000061035156,-542.2000122070312,-421.8999938964844,-376.8999938964844,-354.3999938964844,-389.70001220703125,-362.3999938964844,-405.3999938964844,-417.70001220703125,-540.5999755859375,-373.5,-348.3999938964844,-337.1000061035156,-348.0,-353.6000061035156,-332.1000061035156,-355.79998779296875,-287.5,-335.0,-307.0,-333.20001220703125,-319.29998779296875,-347.6000061035156,-366.70001220703125,-346.29998779296875,-286.0,-283.3999938964844,-414.79998779296875,-303.3999938964844,-296.79998779296875,-318.1000061035156,-329.8999938964844,-346.0,-430.79998779296875,-476.6000061035156,-485.1000061035156,-416.70001220703125,-420.3999938964844,-549.2000122070312,-550.7999877929688,-377.6000061035156,-221.8000030517578,-379.0,-390.8999938964844,-555.2999877929688,-528.7999877929688,-382.20001220703125,-230.10000610351562,-450.20001220703125,-392.6000061035156,-384.20001220703125,-388.3999938964844,-379.8999938964844,-374.1000061035156,-380.8999938964844,-547.9000244140625,-228.39999389648438,-307.8999938964844,-313.20001220703125,-358.3999938964844,-286.29998779296875,-312.3999938964844,-254.1999969482422,-335.6000061035156,-397.0,-400.79998779296875,-279.3999938964844,-400.010009765625,-293.20001220703125,-272.8999938964844,-271.8999938964844,-426.29998779296875,-395.1000061035156,-305.20001220703125,-343.1000061035156,-332.79998779296875,-309.5,-308.0,-420.70001220703125,-464.79998779296875,-318.1000061035156,-290.0,-228.39999389648438,-531.5,-298.8999938964844,-331.6000061035156,-428.29998779296875,-483.8999938964844,-319.3999938964844,-320.3999938964844,-475.20001220703125,-466.1000061035156,-474.29998779296875,-472.79998779296875,-474.70001220703125,-468.0,-466.29998779296875,-467.5,-288.5,-228.89999389648438,-287.0,-388.1000061035156,-464.79998779296875,-417.1000061035156,-408.3999938964844,-410.0,-352.70001220703125,-327.5,-386.79998779296875,-385.20001220703125,-342.70001220703125,-487.3999938964844,-374.3999938964844,-373.1000061035156,-370.6000061035156,-374.1000061035156,-373.8999938964844,-346.0,-452.5,-279.5,-216.3000030517578,-438.0,-402.70001220703125,-293.79998779296875,-327.20001220703125,-398.79998779296875,-390.70001220703125,-360.8999938964844,-321.1000061035156,-393.3999938964844,-369.29998779296875,-262.3999938964844,-381.8999938964844,-283.3999938964844,-188.89999389648438,-233.5,-295.5,-289.29998779296875,-281.3999938964844,-278.3999938964844,-332.1000061035156,-313.0,-275.5,-289.3999938964844,-381.20001220703125,-224.0,-296.1000061035156,-363.70001220703125,-286.6000061035156,-210.0,-204.3000030517578,-281.1000061035156,-205.0,-205.6999969482422,-199.0,-207.39999389648438,-308.70001220703125,-321.0,-387.79998779296875,-405.29998779296875,-292.1000061035156,-279.8999938964844,-342.3999938964844,-358.79998779296875,-321.70001220703125,-325.5,-366.5,-329.79998779296875,-374.5,-514.0,-389.8999938964844,-340.0,-332.5,-349.70001220703125,-289.5,-284.6000061035156,-344.1000061035156,-289.8699951171875,-297.1000061035156,-299.6000061035156,-287.70001220703125,-281.8999938964844,-296.1000061035156,-287.3999938964844,-320.8999938964844,-332.79998779296875,-349.1000061035156,-469.5,-468.70001220703125,-344.70001220703125,-281.29998779296875,-328.1000061035156,-318.6000061035156,-290.6000061035156,-296.29998779296875,-309.5,-289.44000244140625,-340.6000061035156,-272.20001220703125,-284.6000061035156,-316.79998779296875],\"xaxis\":\"x\",\"y\":[null,null,null,null,null,null,null,null,null,null,null,null,null,null,null,null,null,null,null,null,-286.5,-283.0,-359.4,-356.4,-393.22,-538.4,-412.7,-419.3,null,-357.0,-365.0,-395.22,-417.1,-542.2,-421.9,null,-354.4,-389.72,-362.4,-405.4,-417.7,-540.6,null,-348.4,-337.1,-348.0,-353.6,-332.1,-355.8,-287.5,-335.0,-307.0,-333.2,-319.32,-347.62,-366.7,-346.3,-286.0,-283.42,-414.8,-303.4,-296.8,null,-329.9,null,-430.8,-476.6,-485.1,-416.7,-420.4,-549.2,-550.8,-377.6,-221.8,-379.0,-390.92,null,-528.8,null,-230.1,-450.2,-392.6,-384.2,null,null,-374.1,-380.9,-547.9,-228.4,-307.9,-313.2,-358.4,-286.3,-312.4,-254.2,-335.6,-397.0,-400.8,-279.4,-400.0,-293.2,-272.9,-271.9,-426.3,-395.1,-305.2,-343.1,-332.8,-309.5,-308.0,-420.7,-464.8,null,-290.0,-228.4,-531.5,-298.9,-331.6,-428.3,-483.9,-319.4,-320.4,-475.2,-466.1,null,-472.8,-474.7,-468.0,-466.3,-467.5,-288.5,-228.9,-287.0,-388.1,-464.8,-417.1,-408.4,-410.0,-352.7,-327.5,-386.8,-385.2,-342.7,-487.4,-374.4,-373.1,-370.6,-374.1,-373.9,-346.0,-452.5,-279.5,-216.3,-438.0,-402.7,-293.8,null,-398.8,-390.7,-360.9,-321.1,-393.4,-369.3,-262.4,null,-283.4,-188.9,-233.5,-295.5,-289.3,-281.4,-278.42,-332.1,-313.0,-275.5,null,-381.2,-224.0,-296.1,null,-286.6,-210.0,-204.3,-281.1,-205.0,-205.7,null,-207.42,-308.7,-321.0,-387.82,null,-292.1,-279.9,-342.4,null,-321.7,-325.5,-366.5,-329.8,-374.5,-514.02,-389.9,-340.02,-332.5,null,-289.5,-284.6,-344.1,-289.88,-297.1,-299.6,-287.7,-281.9,null,-287.4,-320.9,-332.8,-349.1,-469.5,-468.7,-344.7,-281.3,-328.12,-318.62,-290.6,null,null,-289.44,-340.6,-272.2,-284.6,-316.8],\"yaxis\":\"y\",\"type\":\"scatter\"}],                        {\"template\":{\"data\":{\"bar\":[{\"error_x\":{\"color\":\"#2a3f5f\"},\"error_y\":{\"color\":\"#2a3f5f\"},\"marker\":{\"line\":{\"color\":\"#E5ECF6\",\"width\":0.5},\"pattern\":{\"fillmode\":\"overlay\",\"size\":10,\"solidity\":0.2}},\"type\":\"bar\"}],\"barpolar\":[{\"marker\":{\"line\":{\"color\":\"#E5ECF6\",\"width\":0.5},\"pattern\":{\"fillmode\":\"overlay\",\"size\":10,\"solidity\":0.2}},\"type\":\"barpolar\"}],\"carpet\":[{\"aaxis\":{\"endlinecolor\":\"#2a3f5f\",\"gridcolor\":\"white\",\"linecolor\":\"white\",\"minorgridcolor\":\"white\",\"startlinecolor\":\"#2a3f5f\"},\"baxis\":{\"endlinecolor\":\"#2a3f5f\",\"gridcolor\":\"white\",\"linecolor\":\"white\",\"minorgridcolor\":\"white\",\"startlinecolor\":\"#2a3f5f\"},\"type\":\"carpet\"}],\"choropleth\":[{\"colorbar\":{\"outlinewidth\":0,\"ticks\":\"\"},\"type\":\"choropleth\"}],\"contour\":[{\"colorbar\":{\"outlinewidth\":0,\"ticks\":\"\"},\"colorscale\":[[0.0,\"#0d0887\"],[0.1111111111111111,\"#46039f\"],[0.2222222222222222,\"#7201a8\"],[0.3333333333333333,\"#9c179e\"],[0.4444444444444444,\"#bd3786\"],[0.5555555555555556,\"#d8576b\"],[0.6666666666666666,\"#ed7953\"],[0.7777777777777778,\"#fb9f3a\"],[0.8888888888888888,\"#fdca26\"],[1.0,\"#f0f921\"]],\"type\":\"contour\"}],\"contourcarpet\":[{\"colorbar\":{\"outlinewidth\":0,\"ticks\":\"\"},\"type\":\"contourcarpet\"}],\"heatmap\":[{\"colorbar\":{\"outlinewidth\":0,\"ticks\":\"\"},\"colorscale\":[[0.0,\"#0d0887\"],[0.1111111111111111,\"#46039f\"],[0.2222222222222222,\"#7201a8\"],[0.3333333333333333,\"#9c179e\"],[0.4444444444444444,\"#bd3786\"],[0.5555555555555556,\"#d8576b\"],[0.6666666666666666,\"#ed7953\"],[0.7777777777777778,\"#fb9f3a\"],[0.8888888888888888,\"#fdca26\"],[1.0,\"#f0f921\"]],\"type\":\"heatmap\"}],\"heatmapgl\":[{\"colorbar\":{\"outlinewidth\":0,\"ticks\":\"\"},\"colorscale\":[[0.0,\"#0d0887\"],[0.1111111111111111,\"#46039f\"],[0.2222222222222222,\"#7201a8\"],[0.3333333333333333,\"#9c179e\"],[0.4444444444444444,\"#bd3786\"],[0.5555555555555556,\"#d8576b\"],[0.6666666666666666,\"#ed7953\"],[0.7777777777777778,\"#fb9f3a\"],[0.8888888888888888,\"#fdca26\"],[1.0,\"#f0f921\"]],\"type\":\"heatmapgl\"}],\"histogram\":[{\"marker\":{\"pattern\":{\"fillmode\":\"overlay\",\"size\":10,\"solidity\":0.2}},\"type\":\"histogram\"}],\"histogram2d\":[{\"colorbar\":{\"outlinewidth\":0,\"ticks\":\"\"},\"colorscale\":[[0.0,\"#0d0887\"],[0.1111111111111111,\"#46039f\"],[0.2222222222222222,\"#7201a8\"],[0.3333333333333333,\"#9c179e\"],[0.4444444444444444,\"#bd3786\"],[0.5555555555555556,\"#d8576b\"],[0.6666666666666666,\"#ed7953\"],[0.7777777777777778,\"#fb9f3a\"],[0.8888888888888888,\"#fdca26\"],[1.0,\"#f0f921\"]],\"type\":\"histogram2d\"}],\"histogram2dcontour\":[{\"colorbar\":{\"outlinewidth\":0,\"ticks\":\"\"},\"colorscale\":[[0.0,\"#0d0887\"],[0.1111111111111111,\"#46039f\"],[0.2222222222222222,\"#7201a8\"],[0.3333333333333333,\"#9c179e\"],[0.4444444444444444,\"#bd3786\"],[0.5555555555555556,\"#d8576b\"],[0.6666666666666666,\"#ed7953\"],[0.7777777777777778,\"#fb9f3a\"],[0.8888888888888888,\"#fdca26\"],[1.0,\"#f0f921\"]],\"type\":\"histogram2dcontour\"}],\"mesh3d\":[{\"colorbar\":{\"outlinewidth\":0,\"ticks\":\"\"},\"type\":\"mesh3d\"}],\"parcoords\":[{\"line\":{\"colorbar\":{\"outlinewidth\":0,\"ticks\":\"\"}},\"type\":\"parcoords\"}],\"pie\":[{\"automargin\":true,\"type\":\"pie\"}],\"scatter\":[{\"marker\":{\"colorbar\":{\"outlinewidth\":0,\"ticks\":\"\"}},\"type\":\"scatter\"}],\"scatter3d\":[{\"line\":{\"colorbar\":{\"outlinewidth\":0,\"ticks\":\"\"}},\"marker\":{\"colorbar\":{\"outlinewidth\":0,\"ticks\":\"\"}},\"type\":\"scatter3d\"}],\"scattercarpet\":[{\"marker\":{\"colorbar\":{\"outlinewidth\":0,\"ticks\":\"\"}},\"type\":\"scattercarpet\"}],\"scattergeo\":[{\"marker\":{\"colorbar\":{\"outlinewidth\":0,\"ticks\":\"\"}},\"type\":\"scattergeo\"}],\"scattergl\":[{\"marker\":{\"colorbar\":{\"outlinewidth\":0,\"ticks\":\"\"}},\"type\":\"scattergl\"}],\"scattermapbox\":[{\"marker\":{\"colorbar\":{\"outlinewidth\":0,\"ticks\":\"\"}},\"type\":\"scattermapbox\"}],\"scatterpolar\":[{\"marker\":{\"colorbar\":{\"outlinewidth\":0,\"ticks\":\"\"}},\"type\":\"scatterpolar\"}],\"scatterpolargl\":[{\"marker\":{\"colorbar\":{\"outlinewidth\":0,\"ticks\":\"\"}},\"type\":\"scatterpolargl\"}],\"scatterternary\":[{\"marker\":{\"colorbar\":{\"outlinewidth\":0,\"ticks\":\"\"}},\"type\":\"scatterternary\"}],\"surface\":[{\"colorbar\":{\"outlinewidth\":0,\"ticks\":\"\"},\"colorscale\":[[0.0,\"#0d0887\"],[0.1111111111111111,\"#46039f\"],[0.2222222222222222,\"#7201a8\"],[0.3333333333333333,\"#9c179e\"],[0.4444444444444444,\"#bd3786\"],[0.5555555555555556,\"#d8576b\"],[0.6666666666666666,\"#ed7953\"],[0.7777777777777778,\"#fb9f3a\"],[0.8888888888888888,\"#fdca26\"],[1.0,\"#f0f921\"]],\"type\":\"surface\"}],\"table\":[{\"cells\":{\"fill\":{\"color\":\"#EBF0F8\"},\"line\":{\"color\":\"white\"}},\"header\":{\"fill\":{\"color\":\"#C8D4E3\"},\"line\":{\"color\":\"white\"}},\"type\":\"table\"}]},\"layout\":{\"annotationdefaults\":{\"arrowcolor\":\"#2a3f5f\",\"arrowhead\":0,\"arrowwidth\":1},\"autotypenumbers\":\"strict\",\"coloraxis\":{\"colorbar\":{\"outlinewidth\":0,\"ticks\":\"\"}},\"colorscale\":{\"diverging\":[[0,\"#8e0152\"],[0.1,\"#c51b7d\"],[0.2,\"#de77ae\"],[0.3,\"#f1b6da\"],[0.4,\"#fde0ef\"],[0.5,\"#f7f7f7\"],[0.6,\"#e6f5d0\"],[0.7,\"#b8e186\"],[0.8,\"#7fbc41\"],[0.9,\"#4d9221\"],[1,\"#276419\"]],\"sequential\":[[0.0,\"#0d0887\"],[0.1111111111111111,\"#46039f\"],[0.2222222222222222,\"#7201a8\"],[0.3333333333333333,\"#9c179e\"],[0.4444444444444444,\"#bd3786\"],[0.5555555555555556,\"#d8576b\"],[0.6666666666666666,\"#ed7953\"],[0.7777777777777778,\"#fb9f3a\"],[0.8888888888888888,\"#fdca26\"],[1.0,\"#f0f921\"]],\"sequentialminus\":[[0.0,\"#0d0887\"],[0.1111111111111111,\"#46039f\"],[0.2222222222222222,\"#7201a8\"],[0.3333333333333333,\"#9c179e\"],[0.4444444444444444,\"#bd3786\"],[0.5555555555555556,\"#d8576b\"],[0.6666666666666666,\"#ed7953\"],[0.7777777777777778,\"#fb9f3a\"],[0.8888888888888888,\"#fdca26\"],[1.0,\"#f0f921\"]]},\"colorway\":[\"#636efa\",\"#EF553B\",\"#00cc96\",\"#ab63fa\",\"#FFA15A\",\"#19d3f3\",\"#FF6692\",\"#B6E880\",\"#FF97FF\",\"#FECB52\"],\"font\":{\"color\":\"#2a3f5f\"},\"geo\":{\"bgcolor\":\"white\",\"lakecolor\":\"white\",\"landcolor\":\"#E5ECF6\",\"showlakes\":true,\"showland\":true,\"subunitcolor\":\"white\"},\"hoverlabel\":{\"align\":\"left\"},\"hovermode\":\"closest\",\"mapbox\":{\"style\":\"light\"},\"paper_bgcolor\":\"white\",\"plot_bgcolor\":\"#E5ECF6\",\"polar\":{\"angularaxis\":{\"gridcolor\":\"white\",\"linecolor\":\"white\",\"ticks\":\"\"},\"bgcolor\":\"#E5ECF6\",\"radialaxis\":{\"gridcolor\":\"white\",\"linecolor\":\"white\",\"ticks\":\"\"}},\"scene\":{\"xaxis\":{\"backgroundcolor\":\"#E5ECF6\",\"gridcolor\":\"white\",\"gridwidth\":2,\"linecolor\":\"white\",\"showbackground\":true,\"ticks\":\"\",\"zerolinecolor\":\"white\"},\"yaxis\":{\"backgroundcolor\":\"#E5ECF6\",\"gridcolor\":\"white\",\"gridwidth\":2,\"linecolor\":\"white\",\"showbackground\":true,\"ticks\":\"\",\"zerolinecolor\":\"white\"},\"zaxis\":{\"backgroundcolor\":\"#E5ECF6\",\"gridcolor\":\"white\",\"gridwidth\":2,\"linecolor\":\"white\",\"showbackground\":true,\"ticks\":\"\",\"zerolinecolor\":\"white\"}},\"shapedefaults\":{\"line\":{\"color\":\"#2a3f5f\"}},\"ternary\":{\"aaxis\":{\"gridcolor\":\"white\",\"linecolor\":\"white\",\"ticks\":\"\"},\"baxis\":{\"gridcolor\":\"white\",\"linecolor\":\"white\",\"ticks\":\"\"},\"bgcolor\":\"#E5ECF6\",\"caxis\":{\"gridcolor\":\"white\",\"linecolor\":\"white\",\"ticks\":\"\"}},\"title\":{\"x\":0.05},\"xaxis\":{\"automargin\":true,\"gridcolor\":\"white\",\"linecolor\":\"white\",\"ticks\":\"\",\"title\":{\"standoff\":15},\"zerolinecolor\":\"white\",\"zerolinewidth\":2},\"yaxis\":{\"automargin\":true,\"gridcolor\":\"white\",\"linecolor\":\"white\",\"ticks\":\"\",\"title\":{\"standoff\":15},\"zerolinecolor\":\"white\",\"zerolinewidth\":2}}},\"xaxis\":{\"anchor\":\"y\",\"domain\":[0.0,1.0],\"title\":{\"text\":\"mfe_vienna\"}},\"yaxis\":{\"anchor\":\"x\",\"domain\":[0.0,1.0],\"title\":{\"text\":\"dG(MFE) Vienna\"}},\"legend\":{\"tracegroupgap\":0},\"margin\":{\"t\":60}},                        {\"responsive\": true}                    ).then(function(){\n",
              "                            \n",
              "var gd = document.getElementById('a451945f-6a87-41ea-b9d1-d0dde9cc42e3');\n",
              "var x = new MutationObserver(function (mutations, observer) {{\n",
              "        var display = window.getComputedStyle(gd).display;\n",
              "        if (!display || display === 'none') {{\n",
              "            console.log([gd, 'removed!']);\n",
              "            Plotly.purge(gd);\n",
              "            observer.disconnect();\n",
              "        }}\n",
              "}});\n",
              "\n",
              "// Listen for the removal of the full notebook cells\n",
              "var notebookContainer = gd.closest('#notebook-container');\n",
              "if (notebookContainer) {{\n",
              "    x.observe(notebookContainer, {childList: true});\n",
              "}}\n",
              "\n",
              "// Listen for the clearing of the current output cell\n",
              "var outputEl = gd.closest('.output');\n",
              "if (outputEl) {{\n",
              "    x.observe(outputEl, {childList: true});\n",
              "}}\n",
              "\n",
              "                        })                };                            </script>        </div>\n",
              "</body>\n",
              "</html>"
            ]
          },
          "metadata": {}
        }
      ]
    },
    {
      "cell_type": "code",
      "source": [
        "###calculate G/C\n",
        "##biopython module\n",
        "from Bio.SeqUtils import GC\n",
        "##apply GC_calcualte function to Sequence CDS columns\n",
        "df['GC']=df['Sequence CDS'].apply(GC)\n",
        "df['GC']=df['GC']/100"
      ],
      "metadata": {
        "id": "K4I4MbPVitUE"
      },
      "execution_count": null,
      "outputs": []
    },
    {
      "cell_type": "code",
      "source": [
        "##compare both parameters \n",
        "fig = px.scatter(df, x=\"GC\", y=\"GC content (CDS)\")\n",
        "fig.show()"
      ],
      "metadata": {
        "id": "RIUIB56AizRh",
        "colab": {
          "base_uri": "https://localhost:8080/",
          "height": 562
        },
        "outputId": "6b122e70-55e0-43d7-cbb7-c3a8f784f4aa"
      },
      "execution_count": null,
      "outputs": [
        {
          "output_type": "display_data",
          "data": {
            "text/html": [
              "<html>\n",
              "<head><meta charset=\"utf-8\" /></head>\n",
              "<body>\n",
              "    <div>            <script src=\"https://cdnjs.cloudflare.com/ajax/libs/mathjax/2.7.5/MathJax.js?config=TeX-AMS-MML_SVG\"></script><script type=\"text/javascript\">if (window.MathJax) {MathJax.Hub.Config({SVG: {font: \"STIX-Web\"}});}</script>                <script type=\"text/javascript\">window.PlotlyConfig = {MathJaxConfig: 'local'};</script>\n",
              "        <script src=\"https://cdn.plot.ly/plotly-2.8.3.min.js\"></script>                <div id=\"b7aa2149-e4e9-464f-8e55-883d29073d49\" class=\"plotly-graph-div\" style=\"height:525px; width:100%;\"></div>            <script type=\"text/javascript\">                                    window.PLOTLYENV=window.PLOTLYENV || {};                                    if (document.getElementById(\"b7aa2149-e4e9-464f-8e55-883d29073d49\")) {                    Plotly.newPlot(                        \"b7aa2149-e4e9-464f-8e55-883d29073d49\",                        [{\"hovertemplate\":\"GC=%{x}<br>GC content (CDS)=%{y}<extra></extra>\",\"legendgroup\":\"\",\"marker\":{\"color\":\"#636efa\",\"symbol\":\"circle\"},\"mode\":\"markers\",\"name\":\"\",\"orientation\":\"v\",\"showlegend\":false,\"x\":[0.5426731078904993,0.533011272141707,0.5201288244766505,0.5369532428355958,0.533011272141707,0.5475113122171945,0.5265700483091788,0.534621578099839,0.5458937198067633,0.534621578099839,0.5475113122171945,0.5265700483091788,0.5565610859728507,0.5490196078431372,0.5169082125603864,0.5248868778280543,0.5324283559577677,0.5113122171945702,0.5399698340874811,0.5233785822021116,0.5281803542673108,0.5281803542673108,0.5281803542673108,0.5281803542673108,0.5281803542673108,0.5281803542673108,0.5281803542673108,0.5281803542673108,0.5367762128325508,0.5281803542673108,0.5281803542673108,0.5281803542673108,0.5281803542673108,0.5281803542673108,0.5281803542673108,0.5367762128325508,0.5281803542673108,0.5281803542673108,0.5281803542673108,0.5281803542673108,0.5281803542673108,0.5281803542673108,0.5367762128325508,0.5281803542673108,0.5281803542673108,0.5281803542673108,0.5281803542673108,0.5281803542673108,0.5281803542673108,0.5281803542673108,0.5281803542673108,0.5281803542673108,0.5281803542673108,0.5281803542673108,0.5281803542673108,0.5281803542673108,0.5281803542673108,0.5281803542673108,0.5281803542673108,0.5281803542673108,0.5281803542673108,0.5281803542673108,0.5367762128325508,0.5281803542673108,0.5367762128325508,0.5281803542673108,0.6421052631578948,0.631578947368421,0.5988304093567252,0.5976608187134503,0.5964912280701754,0.6,0.6561561561561561,0.6938775510204082,0.6561561561561561,0.6561561561561561,0.6,0.569811320754717,0.6561561561561561,0.6734693877551021,0.5484276729559748,0.6561561561561561,0.6561561561561561,0.6561561561561561,0.6561561561561561,0.6561561561561561,0.6561561561561561,0.5207547169811321,0.7074829931972789,0.5435435435435436,0.5405405405405406,0.596096096096096,0.5281803542673108,0.5281803542673108,0.5281803542673108,0.5281803542673108,0.5281803542673108,0.5281803542673108,0.5281803542673108,0.5281803542673108,0.5281803542673108,0.5281803542673108,0.5281803542673108,0.5281803542673108,0.5281803542673108,0.5281803542673108,0.5281803542673108,0.5281803542673108,0.5281803542673108,0.5281803542673108,0.5281803542673108,0.5281803542673108,0.5281803542673108,0.48948948948948945,0.6111111111111112,0.5630630630630631,0.5367762128325508,0.5375375375375375,0.6261261261261262,0.49308176100628937,0.5405405405405406,0.509009009009009,0.572072072072072,0.5585585585585586,0.5705705705705706,0.5690690690690691,0.5705705705705706,0.5735735735735736,0.5735735735735736,0.572072072072072,0.512012012012012,0.6805555555555556,0.48648648648648646,0.545045045045045,0.5630630630630631,0.5480480480480481,0.527027027027027,0.48930817610062893,0.5405405405405406,0.493993993993994,0.572072072072072,0.5735735735735736,0.4257309941520468,0.5435435435435436,0.5405405405405406,0.5405405405405406,0.5405405405405406,0.5405405405405406,0.5405405405405406,0.439766081871345,0.53003003003003,0.4954954954954955,0.6805555555555556,0.539039039039039,0.5555555555555556,0.5135135135135136,0.5375375375375375,0.536036036036036,0.509009009009009,0.5225225225225225,0.5045045045045046,0.48948948948948945,0.503003003003003,0.5315315315315315,0.5180180180180181,0.49099099099099097,0.5555555555555556,0.6597222222222223,0.5,0.49099099099099097,0.487987987987988,0.484984984984985,0.4984984984984985,0.503003003003003,0.48948948948948945,0.47147147147147145,0.481981981981982,0.6388888888888888,0.47297297297297297,0.48648648648648646,0.451951951951952,0.41891891891891897,0.3813813813813814,0.4624624624624624,0.42792792792792794,0.4264264264264264,0.36936936936936937,0.3663663663663664,0.5281803542673108,0.5281803542673108,0.5281803542673108,0.5367762128325508,0.5281803542673108,0.5281803542673108,0.5281803542673108,0.5367762128325508,0.5281803542673108,0.5281803542673108,0.5281803542673108,0.5281803542673108,0.5281803542673108,0.5281803542673108,0.5281803542673108,0.5281803542673108,0.5281803542673108,0.5367762128325508,0.5281803542673108,0.5281803542673108,0.5281803542673108,0.5281803542673108,0.5281803542673108,0.5281803542673108,0.5281803542673108,0.5281803542673108,0.5367762128325508,0.5281803542673108,0.5281803542673108,0.5281803542673108,0.5281803542673108,0.5281803542673108,0.5281803542673108,0.5281803542673108,0.5281803542673108,0.5281803542673108,0.5281803542673108,0.5281803542673108,0.5367762128325508,0.5367762128325508,0.5281803542673108,0.5281803542673108,0.5281803542673108,0.5281803542673108,0.5281803542673108],\"xaxis\":\"x\",\"y\":[0.54267311,0.53301127,0.52012882,0.53695324,0.53301127,0.54751131,0.52657005,0.53462158,0.54589372,0.53462158,0.54751131,0.52657005,0.55656109,0.54901961,0.51690821,0.52488688,0.53242836,0.51131222,0.53996983,0.52337858,0.52818035,0.52818035,0.52818035,0.52818035,0.52818035,0.52818035,0.52818035,0.52818035,0.53677621,0.52818035,0.52818035,0.52818035,0.52818035,0.52818035,0.52818035,0.53677621,0.52818035,0.52818035,0.52818035,0.52818035,0.52818035,0.52818035,0.53677621,0.52818035,0.52818035,0.52818035,0.52818035,0.52818035,0.52818035,0.52818035,0.52818035,0.52818035,0.52818035,0.52818035,0.52818035,0.52818035,0.52818035,0.52818035,0.52818035,0.52818035,0.52818035,0.52818035,0.53677621,0.52818035,0.53677621,0.5173913,0.64210526,0.63157895,0.59883041,0.59766082,0.59649123,0.6,0.65615616,0.69387755,0.65615616,0.65615616,0.6,0.56981132,0.65615616,0.67346939,0.54842767,0.65615616,0.65615616,0.65615616,0.65615616,0.65615616,0.65615616,0.52075472,0.70748299,0.54354354,0.54054054,0.5960961,0.52818035,0.52818035,0.52818035,0.52818035,0.52818035,0.52818035,0.52818035,0.52818035,0.52818035,0.52818035,0.52818035,0.52818035,0.52818035,0.52818035,0.52818035,0.52818035,0.52818035,0.52818035,0.52818035,0.52818035,0.528180354267311,0.48948949,0.61111111,0.56306306,0.53677621,0.53753754,0.62612613,0.49308176,0.54054054,0.50900901,0.57207207,0.55855856,0.57057057,0.56906907,0.57057057,0.57357357,0.57357357,0.57207207,0.51201201,0.68055556,0.48648649,0.54504505,0.56306306,0.54804805,0.52702703,0.48930818,0.54054054,0.49399399,0.57207207,0.57357357,0.42573099,0.54354354,0.54054054,0.54054054,0.54054054,0.54054054,0.54054054,0.43976608,0.53003003,0.4954955,0.68055556,0.53903904,0.55555556,0.51351351,0.53753754,0.53603604,0.50900901,0.52252252,0.5045045,0.48948949,0.503003,0.53153153,0.51801802,0.49099099,0.55555556,0.65972222,0.5,0.49099099,0.48798799,0.48498499,0.4984985,0.503003,0.48948949,0.47147147,0.48198198,0.63888889,0.47297297,0.48648649,0.45195195,0.41891892,0.38138138,0.46246246,0.42792793,0.42642643,0.36936937,0.36636637,0.52818035,0.52818035,0.52818035,0.53677621,0.52818035,0.52818035,0.52818035,0.53677621,0.52818035,0.52818035,0.52818035,0.52818035,0.52818035,0.52818035,0.52818035,0.52818035,0.52818035,0.53677621,0.52818035,0.52818035,0.52818035,0.52818035,0.52818035,0.52818035,0.52818035,0.52818035,0.53677621,0.52818035,0.52818035,0.52818035,0.52818035,0.52818035,0.52818035,0.52818035,0.52818035,0.52818035,0.52818035,0.52818035,0.53677621,0.53677621,0.52818035,0.52818035,0.52818035,0.52818035,0.52818035],\"yaxis\":\"y\",\"type\":\"scatter\"}],                        {\"template\":{\"data\":{\"bar\":[{\"error_x\":{\"color\":\"#2a3f5f\"},\"error_y\":{\"color\":\"#2a3f5f\"},\"marker\":{\"line\":{\"color\":\"#E5ECF6\",\"width\":0.5},\"pattern\":{\"fillmode\":\"overlay\",\"size\":10,\"solidity\":0.2}},\"type\":\"bar\"}],\"barpolar\":[{\"marker\":{\"line\":{\"color\":\"#E5ECF6\",\"width\":0.5},\"pattern\":{\"fillmode\":\"overlay\",\"size\":10,\"solidity\":0.2}},\"type\":\"barpolar\"}],\"carpet\":[{\"aaxis\":{\"endlinecolor\":\"#2a3f5f\",\"gridcolor\":\"white\",\"linecolor\":\"white\",\"minorgridcolor\":\"white\",\"startlinecolor\":\"#2a3f5f\"},\"baxis\":{\"endlinecolor\":\"#2a3f5f\",\"gridcolor\":\"white\",\"linecolor\":\"white\",\"minorgridcolor\":\"white\",\"startlinecolor\":\"#2a3f5f\"},\"type\":\"carpet\"}],\"choropleth\":[{\"colorbar\":{\"outlinewidth\":0,\"ticks\":\"\"},\"type\":\"choropleth\"}],\"contour\":[{\"colorbar\":{\"outlinewidth\":0,\"ticks\":\"\"},\"colorscale\":[[0.0,\"#0d0887\"],[0.1111111111111111,\"#46039f\"],[0.2222222222222222,\"#7201a8\"],[0.3333333333333333,\"#9c179e\"],[0.4444444444444444,\"#bd3786\"],[0.5555555555555556,\"#d8576b\"],[0.6666666666666666,\"#ed7953\"],[0.7777777777777778,\"#fb9f3a\"],[0.8888888888888888,\"#fdca26\"],[1.0,\"#f0f921\"]],\"type\":\"contour\"}],\"contourcarpet\":[{\"colorbar\":{\"outlinewidth\":0,\"ticks\":\"\"},\"type\":\"contourcarpet\"}],\"heatmap\":[{\"colorbar\":{\"outlinewidth\":0,\"ticks\":\"\"},\"colorscale\":[[0.0,\"#0d0887\"],[0.1111111111111111,\"#46039f\"],[0.2222222222222222,\"#7201a8\"],[0.3333333333333333,\"#9c179e\"],[0.4444444444444444,\"#bd3786\"],[0.5555555555555556,\"#d8576b\"],[0.6666666666666666,\"#ed7953\"],[0.7777777777777778,\"#fb9f3a\"],[0.8888888888888888,\"#fdca26\"],[1.0,\"#f0f921\"]],\"type\":\"heatmap\"}],\"heatmapgl\":[{\"colorbar\":{\"outlinewidth\":0,\"ticks\":\"\"},\"colorscale\":[[0.0,\"#0d0887\"],[0.1111111111111111,\"#46039f\"],[0.2222222222222222,\"#7201a8\"],[0.3333333333333333,\"#9c179e\"],[0.4444444444444444,\"#bd3786\"],[0.5555555555555556,\"#d8576b\"],[0.6666666666666666,\"#ed7953\"],[0.7777777777777778,\"#fb9f3a\"],[0.8888888888888888,\"#fdca26\"],[1.0,\"#f0f921\"]],\"type\":\"heatmapgl\"}],\"histogram\":[{\"marker\":{\"pattern\":{\"fillmode\":\"overlay\",\"size\":10,\"solidity\":0.2}},\"type\":\"histogram\"}],\"histogram2d\":[{\"colorbar\":{\"outlinewidth\":0,\"ticks\":\"\"},\"colorscale\":[[0.0,\"#0d0887\"],[0.1111111111111111,\"#46039f\"],[0.2222222222222222,\"#7201a8\"],[0.3333333333333333,\"#9c179e\"],[0.4444444444444444,\"#bd3786\"],[0.5555555555555556,\"#d8576b\"],[0.6666666666666666,\"#ed7953\"],[0.7777777777777778,\"#fb9f3a\"],[0.8888888888888888,\"#fdca26\"],[1.0,\"#f0f921\"]],\"type\":\"histogram2d\"}],\"histogram2dcontour\":[{\"colorbar\":{\"outlinewidth\":0,\"ticks\":\"\"},\"colorscale\":[[0.0,\"#0d0887\"],[0.1111111111111111,\"#46039f\"],[0.2222222222222222,\"#7201a8\"],[0.3333333333333333,\"#9c179e\"],[0.4444444444444444,\"#bd3786\"],[0.5555555555555556,\"#d8576b\"],[0.6666666666666666,\"#ed7953\"],[0.7777777777777778,\"#fb9f3a\"],[0.8888888888888888,\"#fdca26\"],[1.0,\"#f0f921\"]],\"type\":\"histogram2dcontour\"}],\"mesh3d\":[{\"colorbar\":{\"outlinewidth\":0,\"ticks\":\"\"},\"type\":\"mesh3d\"}],\"parcoords\":[{\"line\":{\"colorbar\":{\"outlinewidth\":0,\"ticks\":\"\"}},\"type\":\"parcoords\"}],\"pie\":[{\"automargin\":true,\"type\":\"pie\"}],\"scatter\":[{\"marker\":{\"colorbar\":{\"outlinewidth\":0,\"ticks\":\"\"}},\"type\":\"scatter\"}],\"scatter3d\":[{\"line\":{\"colorbar\":{\"outlinewidth\":0,\"ticks\":\"\"}},\"marker\":{\"colorbar\":{\"outlinewidth\":0,\"ticks\":\"\"}},\"type\":\"scatter3d\"}],\"scattercarpet\":[{\"marker\":{\"colorbar\":{\"outlinewidth\":0,\"ticks\":\"\"}},\"type\":\"scattercarpet\"}],\"scattergeo\":[{\"marker\":{\"colorbar\":{\"outlinewidth\":0,\"ticks\":\"\"}},\"type\":\"scattergeo\"}],\"scattergl\":[{\"marker\":{\"colorbar\":{\"outlinewidth\":0,\"ticks\":\"\"}},\"type\":\"scattergl\"}],\"scattermapbox\":[{\"marker\":{\"colorbar\":{\"outlinewidth\":0,\"ticks\":\"\"}},\"type\":\"scattermapbox\"}],\"scatterpolar\":[{\"marker\":{\"colorbar\":{\"outlinewidth\":0,\"ticks\":\"\"}},\"type\":\"scatterpolar\"}],\"scatterpolargl\":[{\"marker\":{\"colorbar\":{\"outlinewidth\":0,\"ticks\":\"\"}},\"type\":\"scatterpolargl\"}],\"scatterternary\":[{\"marker\":{\"colorbar\":{\"outlinewidth\":0,\"ticks\":\"\"}},\"type\":\"scatterternary\"}],\"surface\":[{\"colorbar\":{\"outlinewidth\":0,\"ticks\":\"\"},\"colorscale\":[[0.0,\"#0d0887\"],[0.1111111111111111,\"#46039f\"],[0.2222222222222222,\"#7201a8\"],[0.3333333333333333,\"#9c179e\"],[0.4444444444444444,\"#bd3786\"],[0.5555555555555556,\"#d8576b\"],[0.6666666666666666,\"#ed7953\"],[0.7777777777777778,\"#fb9f3a\"],[0.8888888888888888,\"#fdca26\"],[1.0,\"#f0f921\"]],\"type\":\"surface\"}],\"table\":[{\"cells\":{\"fill\":{\"color\":\"#EBF0F8\"},\"line\":{\"color\":\"white\"}},\"header\":{\"fill\":{\"color\":\"#C8D4E3\"},\"line\":{\"color\":\"white\"}},\"type\":\"table\"}]},\"layout\":{\"annotationdefaults\":{\"arrowcolor\":\"#2a3f5f\",\"arrowhead\":0,\"arrowwidth\":1},\"autotypenumbers\":\"strict\",\"coloraxis\":{\"colorbar\":{\"outlinewidth\":0,\"ticks\":\"\"}},\"colorscale\":{\"diverging\":[[0,\"#8e0152\"],[0.1,\"#c51b7d\"],[0.2,\"#de77ae\"],[0.3,\"#f1b6da\"],[0.4,\"#fde0ef\"],[0.5,\"#f7f7f7\"],[0.6,\"#e6f5d0\"],[0.7,\"#b8e186\"],[0.8,\"#7fbc41\"],[0.9,\"#4d9221\"],[1,\"#276419\"]],\"sequential\":[[0.0,\"#0d0887\"],[0.1111111111111111,\"#46039f\"],[0.2222222222222222,\"#7201a8\"],[0.3333333333333333,\"#9c179e\"],[0.4444444444444444,\"#bd3786\"],[0.5555555555555556,\"#d8576b\"],[0.6666666666666666,\"#ed7953\"],[0.7777777777777778,\"#fb9f3a\"],[0.8888888888888888,\"#fdca26\"],[1.0,\"#f0f921\"]],\"sequentialminus\":[[0.0,\"#0d0887\"],[0.1111111111111111,\"#46039f\"],[0.2222222222222222,\"#7201a8\"],[0.3333333333333333,\"#9c179e\"],[0.4444444444444444,\"#bd3786\"],[0.5555555555555556,\"#d8576b\"],[0.6666666666666666,\"#ed7953\"],[0.7777777777777778,\"#fb9f3a\"],[0.8888888888888888,\"#fdca26\"],[1.0,\"#f0f921\"]]},\"colorway\":[\"#636efa\",\"#EF553B\",\"#00cc96\",\"#ab63fa\",\"#FFA15A\",\"#19d3f3\",\"#FF6692\",\"#B6E880\",\"#FF97FF\",\"#FECB52\"],\"font\":{\"color\":\"#2a3f5f\"},\"geo\":{\"bgcolor\":\"white\",\"lakecolor\":\"white\",\"landcolor\":\"#E5ECF6\",\"showlakes\":true,\"showland\":true,\"subunitcolor\":\"white\"},\"hoverlabel\":{\"align\":\"left\"},\"hovermode\":\"closest\",\"mapbox\":{\"style\":\"light\"},\"paper_bgcolor\":\"white\",\"plot_bgcolor\":\"#E5ECF6\",\"polar\":{\"angularaxis\":{\"gridcolor\":\"white\",\"linecolor\":\"white\",\"ticks\":\"\"},\"bgcolor\":\"#E5ECF6\",\"radialaxis\":{\"gridcolor\":\"white\",\"linecolor\":\"white\",\"ticks\":\"\"}},\"scene\":{\"xaxis\":{\"backgroundcolor\":\"#E5ECF6\",\"gridcolor\":\"white\",\"gridwidth\":2,\"linecolor\":\"white\",\"showbackground\":true,\"ticks\":\"\",\"zerolinecolor\":\"white\"},\"yaxis\":{\"backgroundcolor\":\"#E5ECF6\",\"gridcolor\":\"white\",\"gridwidth\":2,\"linecolor\":\"white\",\"showbackground\":true,\"ticks\":\"\",\"zerolinecolor\":\"white\"},\"zaxis\":{\"backgroundcolor\":\"#E5ECF6\",\"gridcolor\":\"white\",\"gridwidth\":2,\"linecolor\":\"white\",\"showbackground\":true,\"ticks\":\"\",\"zerolinecolor\":\"white\"}},\"shapedefaults\":{\"line\":{\"color\":\"#2a3f5f\"}},\"ternary\":{\"aaxis\":{\"gridcolor\":\"white\",\"linecolor\":\"white\",\"ticks\":\"\"},\"baxis\":{\"gridcolor\":\"white\",\"linecolor\":\"white\",\"ticks\":\"\"},\"bgcolor\":\"#E5ECF6\",\"caxis\":{\"gridcolor\":\"white\",\"linecolor\":\"white\",\"ticks\":\"\"}},\"title\":{\"x\":0.05},\"xaxis\":{\"automargin\":true,\"gridcolor\":\"white\",\"linecolor\":\"white\",\"ticks\":\"\",\"title\":{\"standoff\":15},\"zerolinecolor\":\"white\",\"zerolinewidth\":2},\"yaxis\":{\"automargin\":true,\"gridcolor\":\"white\",\"linecolor\":\"white\",\"ticks\":\"\",\"title\":{\"standoff\":15},\"zerolinecolor\":\"white\",\"zerolinewidth\":2}}},\"xaxis\":{\"anchor\":\"y\",\"domain\":[0.0,1.0],\"title\":{\"text\":\"GC\"}},\"yaxis\":{\"anchor\":\"x\",\"domain\":[0.0,1.0],\"title\":{\"text\":\"GC content (CDS)\"}},\"legend\":{\"tracegroupgap\":0},\"margin\":{\"t\":60}},                        {\"responsive\": true}                    ).then(function(){\n",
              "                            \n",
              "var gd = document.getElementById('b7aa2149-e4e9-464f-8e55-883d29073d49');\n",
              "var x = new MutationObserver(function (mutations, observer) {{\n",
              "        var display = window.getComputedStyle(gd).display;\n",
              "        if (!display || display === 'none') {{\n",
              "            console.log([gd, 'removed!']);\n",
              "            Plotly.purge(gd);\n",
              "            observer.disconnect();\n",
              "        }}\n",
              "}});\n",
              "\n",
              "// Listen for the removal of the full notebook cells\n",
              "var notebookContainer = gd.closest('#notebook-container');\n",
              "if (notebookContainer) {{\n",
              "    x.observe(notebookContainer, {childList: true});\n",
              "}}\n",
              "\n",
              "// Listen for the clearing of the current output cell\n",
              "var outputEl = gd.closest('.output');\n",
              "if (outputEl) {{\n",
              "    x.observe(outputEl, {childList: true});\n",
              "}}\n",
              "\n",
              "                        })                };                            </script>        </div>\n",
              "</body>\n",
              "</html>"
            ]
          },
          "metadata": {}
        }
      ]
    },
    {
      "cell_type": "code",
      "source": [
        "##plot Group vs MFE \n",
        "fig = px.violin(df, y=\"mfe_vienna\", x='Group',color='Group', box=True, points=\"all\")\n",
        "fig.show()"
      ],
      "metadata": {
        "colab": {
          "base_uri": "https://localhost:8080/",
          "height": 562
        },
        "id": "1sAKDc9YTkJk",
        "outputId": "68a0977c-41ae-4f73-86ee-91509ffabd6f"
      },
      "execution_count": null,
      "outputs": [
        {
          "output_type": "display_data",
          "data": {
            "text/html": [
              "<html>\n",
              "<head><meta charset=\"utf-8\" /></head>\n",
              "<body>\n",
              "    <div>            <script src=\"https://cdnjs.cloudflare.com/ajax/libs/mathjax/2.7.5/MathJax.js?config=TeX-AMS-MML_SVG\"></script><script type=\"text/javascript\">if (window.MathJax) {MathJax.Hub.Config({SVG: {font: \"STIX-Web\"}});}</script>                <script type=\"text/javascript\">window.PlotlyConfig = {MathJaxConfig: 'local'};</script>\n",
              "        <script src=\"https://cdn.plot.ly/plotly-2.8.3.min.js\"></script>                <div id=\"70a4f50d-ded6-4967-b013-221f89c5083a\" class=\"plotly-graph-div\" style=\"height:525px; width:100%;\"></div>            <script type=\"text/javascript\">                                    window.PLOTLYENV=window.PLOTLYENV || {};                                    if (document.getElementById(\"70a4f50d-ded6-4967-b013-221f89c5083a\")) {                    Plotly.newPlot(                        \"70a4f50d-ded6-4967-b013-221f89c5083a\",                        [{\"alignmentgroup\":\"True\",\"box\":{\"visible\":true},\"hovertemplate\":\"Group=%{x}<br>mfe_vienna=%{y}<extra></extra>\",\"legendgroup\":\"CoV2 Eterna variants\",\"marker\":{\"color\":\"#636efa\"},\"name\":\"CoV2 Eterna variants\",\"offsetgroup\":\"CoV2 Eterna variants\",\"orientation\":\"v\",\"points\":\"all\",\"scalegroup\":\"True\",\"showlegend\":true,\"x\":[\"CoV2 Eterna variants\",\"CoV2 Eterna variants\",\"CoV2 Eterna variants\",\"CoV2 Eterna variants\",\"CoV2 Eterna variants\",\"CoV2 Eterna variants\",\"CoV2 Eterna variants\",\"CoV2 Eterna variants\",\"CoV2 Eterna variants\",\"CoV2 Eterna variants\",\"CoV2 Eterna variants\",\"CoV2 Eterna variants\",\"CoV2 Eterna variants\",\"CoV2 Eterna variants\",\"CoV2 Eterna variants\",\"CoV2 Eterna variants\",\"CoV2 Eterna variants\",\"CoV2 Eterna variants\",\"CoV2 Eterna variants\",\"CoV2 Eterna variants\"],\"x0\":\" \",\"xaxis\":\"x\",\"y\":[-395.0,-352.1000061035156,-375.70001220703125,-375.29998779296875,-369.8999938964844,-392.29998779296875,-337.20001220703125,-373.1000061035156,-408.5,-384.0,-422.5,-365.29998779296875,-438.29998779296875,-427.29998779296875,-354.6000061035156,-369.79998779296875,-381.0,-395.79998779296875,-385.5,-393.3999938964844],\"y0\":\" \",\"yaxis\":\"y\",\"type\":\"violin\"},{\"alignmentgroup\":\"True\",\"box\":{\"visible\":true},\"hovertemplate\":\"Group=%{x}<br>mfe_vienna=%{y}<extra></extra>\",\"legendgroup\":\"UTR (5') variants\",\"marker\":{\"color\":\"#EF553B\"},\"name\":\"UTR (5') variants\",\"offsetgroup\":\"UTR (5') variants\",\"orientation\":\"v\",\"points\":\"all\",\"scalegroup\":\"True\",\"showlegend\":true,\"x\":[\"UTR (5') variants\",\"UTR (5') variants\",\"UTR (5') variants\",\"UTR (5') variants\",\"UTR (5') variants\",\"UTR (5') variants\",\"UTR (5') variants\",\"UTR (5') variants\",\"UTR (5') variants\",\"UTR (5') variants\",\"UTR (5') variants\",\"UTR (5') variants\",\"UTR (5') variants\",\"UTR (5') variants\",\"UTR (5') variants\",\"UTR (5') variants\",\"UTR (5') variants\",\"UTR (5') variants\",\"UTR (5') variants\",\"UTR (5') variants\",\"UTR (5') variants\",\"UTR (5') variants\",\"UTR (5') variants\",\"UTR (5') variants\",\"UTR (5') variants\",\"UTR (5') variants\",\"UTR (5') variants\",\"UTR (5') variants\",\"UTR (5') variants\",\"UTR (5') variants\",\"UTR (5') variants\",\"UTR (5') variants\",\"UTR (5') variants\",\"UTR (5') variants\",\"UTR (5') variants\",\"UTR (5') variants\",\"UTR (5') variants\",\"UTR (5') variants\",\"UTR (5') variants\",\"UTR (5') variants\",\"UTR (5') variants\",\"UTR (5') variants\",\"UTR (5') variants\",\"UTR (5') variants\",\"UTR (5') variants\",\"UTR (5') variants\",\"UTR (5') variants\",\"UTR (5') variants\",\"UTR (5') variants\",\"UTR (5') variants\",\"UTR (5') variants\",\"UTR (5') variants\",\"UTR (5') variants\",\"UTR (5') variants\",\"UTR (5') variants\",\"UTR (5') variants\",\"UTR (5') variants\",\"UTR (5') variants\",\"UTR (5') variants\"],\"x0\":\" \",\"xaxis\":\"x\",\"y\":[-286.5,-283.0,-356.3999938964844,-373.20001220703125,-357.0,-376.8999938964844,-354.3999938964844,-373.5,-348.3999938964844,-337.1000061035156,-348.0,-353.6000061035156,-332.1000061035156,-355.79998779296875,-287.5,-335.0,-307.0,-333.20001220703125,-319.29998779296875,-347.6000061035156,-366.70001220703125,-346.29998779296875,-286.0,-283.3999938964844,-303.3999938964844,-296.79998779296875,-318.1000061035156,-329.8999938964844,-346.0,-430.79998779296875,-308.70001220703125,-321.0,-387.79998779296875,-405.29998779296875,-292.1000061035156,-279.8999938964844,-342.3999938964844,-358.79998779296875,-321.70001220703125,-325.5,-340.0,-332.5,-349.70001220703125,-289.5,-284.6000061035156,-344.1000061035156,-289.8699951171875,-297.1000061035156,-299.6000061035156,-287.70001220703125,-281.8999938964844,-296.1000061035156,-281.29998779296875,-296.29998779296875,-289.44000244140625,-340.6000061035156,-272.20001220703125,-284.6000061035156,-316.79998779296875],\"y0\":\" \",\"yaxis\":\"y\",\"type\":\"violin\"},{\"alignmentgroup\":\"True\",\"box\":{\"visible\":true},\"hovertemplate\":\"Group=%{x}<br>mfe_vienna=%{y}<extra></extra>\",\"legendgroup\":\"UTR (5'/3') variants\",\"marker\":{\"color\":\"#00cc96\"},\"name\":\"UTR (5'/3') variants\",\"offsetgroup\":\"UTR (5'/3') variants\",\"orientation\":\"v\",\"points\":\"all\",\"scalegroup\":\"True\",\"showlegend\":true,\"x\":[\"UTR (5'/3') variants\",\"UTR (5'/3') variants\",\"UTR (5'/3') variants\",\"UTR (5'/3') variants\",\"UTR (5'/3') variants\",\"UTR (5'/3') variants\",\"UTR (5'/3') variants\",\"UTR (5'/3') variants\",\"UTR (5'/3') variants\",\"UTR (5'/3') variants\",\"UTR (5'/3') variants\",\"UTR (5'/3') variants\",\"UTR (5'/3') variants\",\"UTR (5'/3') variants\",\"UTR (5'/3') variants\",\"UTR (5'/3') variants\",\"UTR (5'/3') variants\",\"UTR (5'/3') variants\",\"UTR (5'/3') variants\",\"UTR (5'/3') variants\",\"UTR (5'/3') variants\",\"UTR (5'/3') variants\",\"UTR (5'/3') variants\",\"UTR (5'/3') variants\",\"UTR (5'/3') variants\",\"UTR (5'/3') variants\",\"UTR (5'/3') variants\",\"UTR (5'/3') variants\",\"UTR (5'/3') variants\",\"UTR (5'/3') variants\",\"UTR (5'/3') variants\",\"UTR (5'/3') variants\"],\"x0\":\" \",\"xaxis\":\"x\",\"y\":[-359.3999938964844,-393.20001220703125,-538.4000244140625,-412.70001220703125,-419.29998779296875,-365.0,-395.20001220703125,-417.1000061035156,-542.2000122070312,-421.8999938964844,-389.70001220703125,-362.3999938964844,-405.3999938964844,-417.70001220703125,-540.5999755859375,-414.79998779296875,-366.5,-329.79998779296875,-374.5,-514.0,-389.8999938964844,-287.3999938964844,-320.8999938964844,-332.79998779296875,-349.1000061035156,-469.5,-468.70001220703125,-344.70001220703125,-328.1000061035156,-318.6000061035156,-290.6000061035156,-309.5],\"y0\":\" \",\"yaxis\":\"y\",\"type\":\"violin\"},{\"alignmentgroup\":\"True\",\"box\":{\"visible\":true},\"hovertemplate\":\"Group=%{x}<br>mfe_vienna=%{y}<extra></extra>\",\"legendgroup\":\"CDS (eGFP) variants\",\"marker\":{\"color\":\"#ab63fa\"},\"name\":\"CDS (eGFP) variants\",\"offsetgroup\":\"CDS (eGFP) variants\",\"orientation\":\"v\",\"points\":\"all\",\"scalegroup\":\"True\",\"showlegend\":true,\"x\":[\"CDS (eGFP) variants\",\"CDS (eGFP) variants\",\"CDS (eGFP) variants\",\"CDS (eGFP) variants\",\"CDS (eGFP) variants\",\"CDS (eGFP) variants\",\"CDS (eGFP) variants\",\"CDS (eGFP) variants\",\"CDS (eGFP) variants\",\"CDS (eGFP) variants\",\"CDS (eGFP) variants\",\"CDS (eGFP) variants\",\"CDS (eGFP) variants\",\"CDS (eGFP) variants\"],\"x0\":\" \",\"xaxis\":\"x\",\"y\":[-476.6000061035156,-485.1000061035156,-416.70001220703125,-420.3999938964844,-549.2000122070312,-550.7999877929688,-555.2999877929688,-528.7999877929688,-450.20001220703125,-547.9000244140625,-483.8999938964844,-410.0,-342.70001220703125,-346.0],\"y0\":\" \",\"yaxis\":\"y\",\"type\":\"violin\"},{\"alignmentgroup\":\"True\",\"box\":{\"visible\":true},\"hovertemplate\":\"Group=%{x}<br>mfe_vienna=%{y}<extra></extra>\",\"legendgroup\":\"CDS (Nluc) variants\",\"marker\":{\"color\":\"#FFA15A\"},\"name\":\"CDS (Nluc) variants\",\"offsetgroup\":\"CDS (Nluc) variants\",\"orientation\":\"v\",\"points\":\"all\",\"scalegroup\":\"True\",\"showlegend\":true,\"x\":[\"CDS (Nluc) variants\",\"CDS (Nluc) variants\",\"CDS (Nluc) variants\",\"CDS (Nluc) variants\",\"CDS (Nluc) variants\",\"CDS (Nluc) variants\",\"CDS (Nluc) variants\",\"CDS (Nluc) variants\",\"CDS (Nluc) variants\",\"CDS (Nluc) variants\",\"CDS (Nluc) variants\",\"CDS (Nluc) variants\",\"CDS (Nluc) variants\",\"CDS (Nluc) variants\",\"CDS (Nluc) variants\",\"CDS (Nluc) variants\",\"CDS (Nluc) variants\",\"CDS (Nluc) variants\",\"CDS (Nluc) variants\",\"CDS (Nluc) variants\",\"CDS (Nluc) variants\",\"CDS (Nluc) variants\",\"CDS (Nluc) variants\",\"CDS (Nluc) variants\",\"CDS (Nluc) variants\",\"CDS (Nluc) variants\",\"CDS (Nluc) variants\",\"CDS (Nluc) variants\",\"CDS (Nluc) variants\",\"CDS (Nluc) variants\",\"CDS (Nluc) variants\",\"CDS (Nluc) variants\",\"CDS (Nluc) variants\",\"CDS (Nluc) variants\",\"CDS (Nluc) variants\",\"CDS (Nluc) variants\",\"CDS (Nluc) variants\",\"CDS (Nluc) variants\",\"CDS (Nluc) variants\",\"CDS (Nluc) variants\",\"CDS (Nluc) variants\",\"CDS (Nluc) variants\",\"CDS (Nluc) variants\",\"CDS (Nluc) variants\",\"CDS (Nluc) variants\",\"CDS (Nluc) variants\",\"CDS (Nluc) variants\",\"CDS (Nluc) variants\",\"CDS (Nluc) variants\",\"CDS (Nluc) variants\",\"CDS (Nluc) variants\",\"CDS (Nluc) variants\",\"CDS (Nluc) variants\",\"CDS (Nluc) variants\",\"CDS (Nluc) variants\",\"CDS (Nluc) variants\",\"CDS (Nluc) variants\",\"CDS (Nluc) variants\",\"CDS (Nluc) variants\",\"CDS (Nluc) variants\",\"CDS (Nluc) variants\",\"CDS (Nluc) variants\",\"CDS (Nluc) variants\",\"CDS (Nluc) variants\",\"CDS (Nluc) variants\",\"CDS (Nluc) variants\",\"CDS (Nluc) variants\",\"CDS (Nluc) variants\",\"CDS (Nluc) variants\",\"CDS (Nluc) variants\",\"CDS (Nluc) variants\",\"CDS (Nluc) variants\",\"CDS (Nluc) variants\",\"CDS (Nluc) variants\",\"CDS (Nluc) variants\",\"CDS (Nluc) variants\",\"CDS (Nluc) variants\",\"CDS (Nluc) variants\"],\"x0\":\" \",\"xaxis\":\"x\",\"y\":[-377.6000061035156,-379.0,-390.8999938964844,-382.20001220703125,-392.6000061035156,-384.20001220703125,-388.3999938964844,-379.8999938964844,-374.1000061035156,-380.8999938964844,-307.8999938964844,-313.20001220703125,-358.3999938964844,-335.6000061035156,-290.0,-531.5,-331.6000061035156,-428.29998779296875,-319.3999938964844,-320.3999938964844,-475.20001220703125,-466.1000061035156,-474.29998779296875,-472.79998779296875,-474.70001220703125,-468.0,-466.29998779296875,-467.5,-288.5,-287.0,-388.1000061035156,-464.79998779296875,-417.1000061035156,-408.3999938964844,-352.70001220703125,-327.5,-386.79998779296875,-385.20001220703125,-487.3999938964844,-374.3999938964844,-373.1000061035156,-370.6000061035156,-374.1000061035156,-373.8999938964844,-452.5,-279.5,-438.0,-402.70001220703125,-293.79998779296875,-327.20001220703125,-398.79998779296875,-390.70001220703125,-360.8999938964844,-321.1000061035156,-393.3999938964844,-369.29998779296875,-262.3999938964844,-381.8999938964844,-283.3999938964844,-295.5,-289.29998779296875,-281.3999938964844,-278.3999938964844,-332.1000061035156,-313.0,-275.5,-289.3999938964844,-381.20001220703125,-296.1000061035156,-363.70001220703125,-286.6000061035156,-210.0,-204.3000030517578,-281.1000061035156,-205.0,-205.6999969482422,-199.0,-207.39999389648438],\"y0\":\" \",\"yaxis\":\"y\",\"type\":\"violin\"},{\"alignmentgroup\":\"True\",\"box\":{\"visible\":true},\"hovertemplate\":\"Group=%{x}<br>mfe_vienna=%{y}<extra></extra>\",\"legendgroup\":\"CDS (MEV) variants\",\"marker\":{\"color\":\"#19d3f3\"},\"name\":\"CDS (MEV) variants\",\"offsetgroup\":\"CDS (MEV) variants\",\"orientation\":\"v\",\"points\":\"all\",\"scalegroup\":\"True\",\"showlegend\":true,\"x\":[\"CDS (MEV) variants\",\"CDS (MEV) variants\",\"CDS (MEV) variants\",\"CDS (MEV) variants\",\"CDS (MEV) variants\",\"CDS (MEV) variants\",\"CDS (MEV) variants\",\"CDS (MEV) variants\",\"CDS (MEV) variants\"],\"x0\":\" \",\"xaxis\":\"x\",\"y\":[-221.8000030517578,-230.10000610351562,-228.39999389648438,-228.39999389648438,-228.89999389648438,-216.3000030517578,-188.89999389648438,-233.5,-224.0],\"y0\":\" \",\"yaxis\":\"y\",\"type\":\"violin\"},{\"alignmentgroup\":\"True\",\"box\":{\"visible\":true},\"hovertemplate\":\"Group=%{x}<br>mfe_vienna=%{y}<extra></extra>\",\"legendgroup\":\"UTR (3') variants\",\"marker\":{\"color\":\"#FF6692\"},\"name\":\"UTR (3') variants\",\"offsetgroup\":\"UTR (3') variants\",\"orientation\":\"v\",\"points\":\"all\",\"scalegroup\":\"True\",\"showlegend\":true,\"x\":[\"UTR (3') variants\",\"UTR (3') variants\",\"UTR (3') variants\",\"UTR (3') variants\",\"UTR (3') variants\",\"UTR (3') variants\",\"UTR (3') variants\",\"UTR (3') variants\",\"UTR (3') variants\",\"UTR (3') variants\",\"UTR (3') variants\",\"UTR (3') variants\",\"UTR (3') variants\",\"UTR (3') variants\",\"UTR (3') variants\",\"UTR (3') variants\",\"UTR (3') variants\",\"UTR (3') variants\",\"UTR (3') variants\"],\"x0\":\" \",\"xaxis\":\"x\",\"y\":[-286.29998779296875,-312.3999938964844,-254.1999969482422,-397.0,-400.79998779296875,-400.010009765625,-293.20001220703125,-272.8999938964844,-271.8999938964844,-426.29998779296875,-395.1000061035156,-305.20001220703125,-343.1000061035156,-332.79998779296875,-309.5,-308.0,-420.70001220703125,-464.79998779296875,-318.1000061035156],\"y0\":\" \",\"yaxis\":\"y\",\"type\":\"violin\"},{\"alignmentgroup\":\"True\",\"box\":{\"visible\":true},\"hovertemplate\":\"Group=%{x}<br>mfe_vienna=%{y}<extra></extra>\",\"legendgroup\":\"hHBB Nluc\",\"marker\":{\"color\":\"#B6E880\"},\"name\":\"hHBB Nluc\",\"offsetgroup\":\"hHBB Nluc\",\"orientation\":\"v\",\"points\":\"all\",\"scalegroup\":\"True\",\"showlegend\":true,\"x\":[\"hHBB Nluc\"],\"x0\":\" \",\"xaxis\":\"x\",\"y\":[-279.3999938964844],\"y0\":\" \",\"yaxis\":\"y\",\"type\":\"violin\"},{\"alignmentgroup\":\"True\",\"box\":{\"visible\":true},\"hovertemplate\":\"Group=%{x}<br>mfe_vienna=%{y}<extra></extra>\",\"legendgroup\":\"hHBB NlucP\",\"marker\":{\"color\":\"#FF97FF\"},\"name\":\"hHBB NlucP\",\"offsetgroup\":\"hHBB NlucP\",\"orientation\":\"v\",\"points\":\"all\",\"scalegroup\":\"True\",\"showlegend\":true,\"x\":[\"hHBB NlucP\"],\"x0\":\" \",\"xaxis\":\"x\",\"y\":[-298.8999938964844],\"y0\":\" \",\"yaxis\":\"y\",\"type\":\"violin\"}],                        {\"template\":{\"data\":{\"bar\":[{\"error_x\":{\"color\":\"#2a3f5f\"},\"error_y\":{\"color\":\"#2a3f5f\"},\"marker\":{\"line\":{\"color\":\"#E5ECF6\",\"width\":0.5},\"pattern\":{\"fillmode\":\"overlay\",\"size\":10,\"solidity\":0.2}},\"type\":\"bar\"}],\"barpolar\":[{\"marker\":{\"line\":{\"color\":\"#E5ECF6\",\"width\":0.5},\"pattern\":{\"fillmode\":\"overlay\",\"size\":10,\"solidity\":0.2}},\"type\":\"barpolar\"}],\"carpet\":[{\"aaxis\":{\"endlinecolor\":\"#2a3f5f\",\"gridcolor\":\"white\",\"linecolor\":\"white\",\"minorgridcolor\":\"white\",\"startlinecolor\":\"#2a3f5f\"},\"baxis\":{\"endlinecolor\":\"#2a3f5f\",\"gridcolor\":\"white\",\"linecolor\":\"white\",\"minorgridcolor\":\"white\",\"startlinecolor\":\"#2a3f5f\"},\"type\":\"carpet\"}],\"choropleth\":[{\"colorbar\":{\"outlinewidth\":0,\"ticks\":\"\"},\"type\":\"choropleth\"}],\"contour\":[{\"colorbar\":{\"outlinewidth\":0,\"ticks\":\"\"},\"colorscale\":[[0.0,\"#0d0887\"],[0.1111111111111111,\"#46039f\"],[0.2222222222222222,\"#7201a8\"],[0.3333333333333333,\"#9c179e\"],[0.4444444444444444,\"#bd3786\"],[0.5555555555555556,\"#d8576b\"],[0.6666666666666666,\"#ed7953\"],[0.7777777777777778,\"#fb9f3a\"],[0.8888888888888888,\"#fdca26\"],[1.0,\"#f0f921\"]],\"type\":\"contour\"}],\"contourcarpet\":[{\"colorbar\":{\"outlinewidth\":0,\"ticks\":\"\"},\"type\":\"contourcarpet\"}],\"heatmap\":[{\"colorbar\":{\"outlinewidth\":0,\"ticks\":\"\"},\"colorscale\":[[0.0,\"#0d0887\"],[0.1111111111111111,\"#46039f\"],[0.2222222222222222,\"#7201a8\"],[0.3333333333333333,\"#9c179e\"],[0.4444444444444444,\"#bd3786\"],[0.5555555555555556,\"#d8576b\"],[0.6666666666666666,\"#ed7953\"],[0.7777777777777778,\"#fb9f3a\"],[0.8888888888888888,\"#fdca26\"],[1.0,\"#f0f921\"]],\"type\":\"heatmap\"}],\"heatmapgl\":[{\"colorbar\":{\"outlinewidth\":0,\"ticks\":\"\"},\"colorscale\":[[0.0,\"#0d0887\"],[0.1111111111111111,\"#46039f\"],[0.2222222222222222,\"#7201a8\"],[0.3333333333333333,\"#9c179e\"],[0.4444444444444444,\"#bd3786\"],[0.5555555555555556,\"#d8576b\"],[0.6666666666666666,\"#ed7953\"],[0.7777777777777778,\"#fb9f3a\"],[0.8888888888888888,\"#fdca26\"],[1.0,\"#f0f921\"]],\"type\":\"heatmapgl\"}],\"histogram\":[{\"marker\":{\"pattern\":{\"fillmode\":\"overlay\",\"size\":10,\"solidity\":0.2}},\"type\":\"histogram\"}],\"histogram2d\":[{\"colorbar\":{\"outlinewidth\":0,\"ticks\":\"\"},\"colorscale\":[[0.0,\"#0d0887\"],[0.1111111111111111,\"#46039f\"],[0.2222222222222222,\"#7201a8\"],[0.3333333333333333,\"#9c179e\"],[0.4444444444444444,\"#bd3786\"],[0.5555555555555556,\"#d8576b\"],[0.6666666666666666,\"#ed7953\"],[0.7777777777777778,\"#fb9f3a\"],[0.8888888888888888,\"#fdca26\"],[1.0,\"#f0f921\"]],\"type\":\"histogram2d\"}],\"histogram2dcontour\":[{\"colorbar\":{\"outlinewidth\":0,\"ticks\":\"\"},\"colorscale\":[[0.0,\"#0d0887\"],[0.1111111111111111,\"#46039f\"],[0.2222222222222222,\"#7201a8\"],[0.3333333333333333,\"#9c179e\"],[0.4444444444444444,\"#bd3786\"],[0.5555555555555556,\"#d8576b\"],[0.6666666666666666,\"#ed7953\"],[0.7777777777777778,\"#fb9f3a\"],[0.8888888888888888,\"#fdca26\"],[1.0,\"#f0f921\"]],\"type\":\"histogram2dcontour\"}],\"mesh3d\":[{\"colorbar\":{\"outlinewidth\":0,\"ticks\":\"\"},\"type\":\"mesh3d\"}],\"parcoords\":[{\"line\":{\"colorbar\":{\"outlinewidth\":0,\"ticks\":\"\"}},\"type\":\"parcoords\"}],\"pie\":[{\"automargin\":true,\"type\":\"pie\"}],\"scatter\":[{\"marker\":{\"colorbar\":{\"outlinewidth\":0,\"ticks\":\"\"}},\"type\":\"scatter\"}],\"scatter3d\":[{\"line\":{\"colorbar\":{\"outlinewidth\":0,\"ticks\":\"\"}},\"marker\":{\"colorbar\":{\"outlinewidth\":0,\"ticks\":\"\"}},\"type\":\"scatter3d\"}],\"scattercarpet\":[{\"marker\":{\"colorbar\":{\"outlinewidth\":0,\"ticks\":\"\"}},\"type\":\"scattercarpet\"}],\"scattergeo\":[{\"marker\":{\"colorbar\":{\"outlinewidth\":0,\"ticks\":\"\"}},\"type\":\"scattergeo\"}],\"scattergl\":[{\"marker\":{\"colorbar\":{\"outlinewidth\":0,\"ticks\":\"\"}},\"type\":\"scattergl\"}],\"scattermapbox\":[{\"marker\":{\"colorbar\":{\"outlinewidth\":0,\"ticks\":\"\"}},\"type\":\"scattermapbox\"}],\"scatterpolar\":[{\"marker\":{\"colorbar\":{\"outlinewidth\":0,\"ticks\":\"\"}},\"type\":\"scatterpolar\"}],\"scatterpolargl\":[{\"marker\":{\"colorbar\":{\"outlinewidth\":0,\"ticks\":\"\"}},\"type\":\"scatterpolargl\"}],\"scatterternary\":[{\"marker\":{\"colorbar\":{\"outlinewidth\":0,\"ticks\":\"\"}},\"type\":\"scatterternary\"}],\"surface\":[{\"colorbar\":{\"outlinewidth\":0,\"ticks\":\"\"},\"colorscale\":[[0.0,\"#0d0887\"],[0.1111111111111111,\"#46039f\"],[0.2222222222222222,\"#7201a8\"],[0.3333333333333333,\"#9c179e\"],[0.4444444444444444,\"#bd3786\"],[0.5555555555555556,\"#d8576b\"],[0.6666666666666666,\"#ed7953\"],[0.7777777777777778,\"#fb9f3a\"],[0.8888888888888888,\"#fdca26\"],[1.0,\"#f0f921\"]],\"type\":\"surface\"}],\"table\":[{\"cells\":{\"fill\":{\"color\":\"#EBF0F8\"},\"line\":{\"color\":\"white\"}},\"header\":{\"fill\":{\"color\":\"#C8D4E3\"},\"line\":{\"color\":\"white\"}},\"type\":\"table\"}]},\"layout\":{\"annotationdefaults\":{\"arrowcolor\":\"#2a3f5f\",\"arrowhead\":0,\"arrowwidth\":1},\"autotypenumbers\":\"strict\",\"coloraxis\":{\"colorbar\":{\"outlinewidth\":0,\"ticks\":\"\"}},\"colorscale\":{\"diverging\":[[0,\"#8e0152\"],[0.1,\"#c51b7d\"],[0.2,\"#de77ae\"],[0.3,\"#f1b6da\"],[0.4,\"#fde0ef\"],[0.5,\"#f7f7f7\"],[0.6,\"#e6f5d0\"],[0.7,\"#b8e186\"],[0.8,\"#7fbc41\"],[0.9,\"#4d9221\"],[1,\"#276419\"]],\"sequential\":[[0.0,\"#0d0887\"],[0.1111111111111111,\"#46039f\"],[0.2222222222222222,\"#7201a8\"],[0.3333333333333333,\"#9c179e\"],[0.4444444444444444,\"#bd3786\"],[0.5555555555555556,\"#d8576b\"],[0.6666666666666666,\"#ed7953\"],[0.7777777777777778,\"#fb9f3a\"],[0.8888888888888888,\"#fdca26\"],[1.0,\"#f0f921\"]],\"sequentialminus\":[[0.0,\"#0d0887\"],[0.1111111111111111,\"#46039f\"],[0.2222222222222222,\"#7201a8\"],[0.3333333333333333,\"#9c179e\"],[0.4444444444444444,\"#bd3786\"],[0.5555555555555556,\"#d8576b\"],[0.6666666666666666,\"#ed7953\"],[0.7777777777777778,\"#fb9f3a\"],[0.8888888888888888,\"#fdca26\"],[1.0,\"#f0f921\"]]},\"colorway\":[\"#636efa\",\"#EF553B\",\"#00cc96\",\"#ab63fa\",\"#FFA15A\",\"#19d3f3\",\"#FF6692\",\"#B6E880\",\"#FF97FF\",\"#FECB52\"],\"font\":{\"color\":\"#2a3f5f\"},\"geo\":{\"bgcolor\":\"white\",\"lakecolor\":\"white\",\"landcolor\":\"#E5ECF6\",\"showlakes\":true,\"showland\":true,\"subunitcolor\":\"white\"},\"hoverlabel\":{\"align\":\"left\"},\"hovermode\":\"closest\",\"mapbox\":{\"style\":\"light\"},\"paper_bgcolor\":\"white\",\"plot_bgcolor\":\"#E5ECF6\",\"polar\":{\"angularaxis\":{\"gridcolor\":\"white\",\"linecolor\":\"white\",\"ticks\":\"\"},\"bgcolor\":\"#E5ECF6\",\"radialaxis\":{\"gridcolor\":\"white\",\"linecolor\":\"white\",\"ticks\":\"\"}},\"scene\":{\"xaxis\":{\"backgroundcolor\":\"#E5ECF6\",\"gridcolor\":\"white\",\"gridwidth\":2,\"linecolor\":\"white\",\"showbackground\":true,\"ticks\":\"\",\"zerolinecolor\":\"white\"},\"yaxis\":{\"backgroundcolor\":\"#E5ECF6\",\"gridcolor\":\"white\",\"gridwidth\":2,\"linecolor\":\"white\",\"showbackground\":true,\"ticks\":\"\",\"zerolinecolor\":\"white\"},\"zaxis\":{\"backgroundcolor\":\"#E5ECF6\",\"gridcolor\":\"white\",\"gridwidth\":2,\"linecolor\":\"white\",\"showbackground\":true,\"ticks\":\"\",\"zerolinecolor\":\"white\"}},\"shapedefaults\":{\"line\":{\"color\":\"#2a3f5f\"}},\"ternary\":{\"aaxis\":{\"gridcolor\":\"white\",\"linecolor\":\"white\",\"ticks\":\"\"},\"baxis\":{\"gridcolor\":\"white\",\"linecolor\":\"white\",\"ticks\":\"\"},\"bgcolor\":\"#E5ECF6\",\"caxis\":{\"gridcolor\":\"white\",\"linecolor\":\"white\",\"ticks\":\"\"}},\"title\":{\"x\":0.05},\"xaxis\":{\"automargin\":true,\"gridcolor\":\"white\",\"linecolor\":\"white\",\"ticks\":\"\",\"title\":{\"standoff\":15},\"zerolinecolor\":\"white\",\"zerolinewidth\":2},\"yaxis\":{\"automargin\":true,\"gridcolor\":\"white\",\"linecolor\":\"white\",\"ticks\":\"\",\"title\":{\"standoff\":15},\"zerolinecolor\":\"white\",\"zerolinewidth\":2}}},\"xaxis\":{\"anchor\":\"y\",\"domain\":[0.0,1.0],\"title\":{\"text\":\"Group\"},\"categoryorder\":\"array\",\"categoryarray\":[\"CoV2 Eterna variants\",\"UTR (5') variants\",\"UTR (5'/3') variants\",\"CDS (eGFP) variants\",\"CDS (Nluc) variants\",\"CDS (MEV) variants\",\"UTR (3') variants\",\"hHBB Nluc\",\"hHBB NlucP\"]},\"yaxis\":{\"anchor\":\"x\",\"domain\":[0.0,1.0],\"title\":{\"text\":\"mfe_vienna\"}},\"legend\":{\"title\":{\"text\":\"Group\"},\"tracegroupgap\":0},\"margin\":{\"t\":60},\"violinmode\":\"overlay\"},                        {\"responsive\": true}                    ).then(function(){\n",
              "                            \n",
              "var gd = document.getElementById('70a4f50d-ded6-4967-b013-221f89c5083a');\n",
              "var x = new MutationObserver(function (mutations, observer) {{\n",
              "        var display = window.getComputedStyle(gd).display;\n",
              "        if (!display || display === 'none') {{\n",
              "            console.log([gd, 'removed!']);\n",
              "            Plotly.purge(gd);\n",
              "            observer.disconnect();\n",
              "        }}\n",
              "}});\n",
              "\n",
              "// Listen for the removal of the full notebook cells\n",
              "var notebookContainer = gd.closest('#notebook-container');\n",
              "if (notebookContainer) {{\n",
              "    x.observe(notebookContainer, {childList: true});\n",
              "}}\n",
              "\n",
              "// Listen for the clearing of the current output cell\n",
              "var outputEl = gd.closest('.output');\n",
              "if (outputEl) {{\n",
              "    x.observe(outputEl, {childList: true});\n",
              "}}\n",
              "\n",
              "                        })                };                            </script>        </div>\n",
              "</body>\n",
              "</html>"
            ]
          },
          "metadata": {}
        }
      ]
    },
    {
      "cell_type": "code",
      "source": [
        "##Data normalization into (0-1) \n",
        "from sklearn import preprocessing\n",
        "mfe_vienna_norm = np.array(df['mfe_vienna'])\n",
        "mfe_vienna_norm=preprocessing.normalize([mfe_vienna_norm])\n",
        "df['mfe_vienna']=mfe_vienna_norm.transpose()"
      ],
      "metadata": {
        "id": "cRXQCIkXXUsN"
      },
      "execution_count": null,
      "outputs": []
    },
    {
      "cell_type": "code",
      "source": [
        "#plot MFE vs GC\n",
        "fig = px.scatter(df, x='mfe_vienna', y=\"GC\" ,color=\"Group\")\n",
        "fig.show()"
      ],
      "metadata": {
        "colab": {
          "base_uri": "https://localhost:8080/",
          "height": 562
        },
        "id": "sJpmUHjZaWsF",
        "outputId": "15576ca9-1727-4f59-9504-5307d9019ae6"
      },
      "execution_count": null,
      "outputs": [
        {
          "output_type": "display_data",
          "data": {
            "text/html": [
              "<html>\n",
              "<head><meta charset=\"utf-8\" /></head>\n",
              "<body>\n",
              "    <div>            <script src=\"https://cdnjs.cloudflare.com/ajax/libs/mathjax/2.7.5/MathJax.js?config=TeX-AMS-MML_SVG\"></script><script type=\"text/javascript\">if (window.MathJax) {MathJax.Hub.Config({SVG: {font: \"STIX-Web\"}});}</script>                <script type=\"text/javascript\">window.PlotlyConfig = {MathJaxConfig: 'local'};</script>\n",
              "        <script src=\"https://cdn.plot.ly/plotly-2.8.3.min.js\"></script>                <div id=\"d9021b4b-b80b-4f3c-97e6-9dad288d4d77\" class=\"plotly-graph-div\" style=\"height:525px; width:100%;\"></div>            <script type=\"text/javascript\">                                    window.PLOTLYENV=window.PLOTLYENV || {};                                    if (document.getElementById(\"d9021b4b-b80b-4f3c-97e6-9dad288d4d77\")) {                    Plotly.newPlot(                        \"d9021b4b-b80b-4f3c-97e6-9dad288d4d77\",                        [{\"hovertemplate\":\"Group=CoV2 Eterna variants<br>mfe_vienna=%{x}<br>GC=%{y}<extra></extra>\",\"legendgroup\":\"CoV2 Eterna variants\",\"marker\":{\"color\":\"#636efa\",\"symbol\":\"circle\"},\"mode\":\"markers\",\"name\":\"CoV2 Eterna variants\",\"orientation\":\"v\",\"showlegend\":true,\"x\":[-0.07120983813192393,-0.06347590997691335,-0.06773047355803681,-0.06765835792822869,-0.06668485744397039,-0.07072308513896972,-0.06078976781606448,-0.06726174947253463,-0.07364359209339476,-0.06922677934850327,-0.0761674850904756,-0.06585557721602808,-0.07901587641509251,-0.07703281763167184,-0.06392660515496351,-0.06666682853651835,-0.06868594513484308,-0.07135405838823994,-0.06949719645533337,-0.07092139211764181],\"xaxis\":\"x\",\"y\":[0.5426731078904993,0.533011272141707,0.5201288244766505,0.5369532428355958,0.533011272141707,0.5475113122171945,0.5265700483091788,0.534621578099839,0.5458937198067633,0.534621578099839,0.5475113122171945,0.5265700483091788,0.5565610859728507,0.5490196078431372,0.5169082125603864,0.5248868778280543,0.5324283559577677,0.5113122171945702,0.5399698340874811,0.5233785822021116],\"yaxis\":\"y\",\"type\":\"scatter\"},{\"hovertemplate\":\"Group=UTR (5') variants<br>mfe_vienna=%{x}<br>GC=%{y}<extra></extra>\",\"legendgroup\":\"UTR (5') variants\",\"marker\":{\"color\":\"#EF553B\",\"symbol\":\"circle\"},\"mode\":\"markers\",\"name\":\"UTR (5') variants\",\"orientation\":\"v\",\"showlegend\":true,\"x\":[-0.05164966740454736,-0.05101869415527715,-0.06425110348249957,-0.06727977837998667,-0.06435927142556164,-0.06794680394251082,-0.06389054734005944,-0.06733385960069263,-0.06280887891273909,-0.06077173890861245,-0.06273676878458109,-0.06374632708374345,-0.05987034855251215,-0.0641429355394375,-0.05182994547576742,-0.0603931538587203,-0.055345367864558605,-0.06006865553118424,-0.0575627859399053,-0.06266465865642308,-0.06610797091705627,-0.06243029386284694,-0.05155952836893733,-0.05109080428343515,-0.05469636570783636,-0.05350652933745394,-0.0573464555554313,-0.059473734595167964,-0.062376212642140966,-0.07766379088094205,-0.05565184278629275,-0.05786926086163945,-0.06991183381847944,-0.07306670006483051,-0.052659225703709726,-0.05045983103416494,-0.061727210485418724,-0.0646837697530977,-0.057995457712153545,-0.058680512182129725,-0.061294544214820605,-0.05994245868067015,-0.06304324370631524,-0.05219050161820754,-0.05130714016955927,-0.06203368540715287,-0.052257203624294944,-0.05356061605981003,-0.054011311237860175,-0.05186600329067148,-0.05082038717660506,-0.05338033798858997,-0.05071221923354299,-0.053416390301843905,-0.05217968537406635,-0.06140271215788266,-0.049071693186760544,-0.05130714016955927,-0.057112090761855146],\"xaxis\":\"x\",\"y\":[0.5281803542673108,0.5281803542673108,0.5281803542673108,0.5367762128325508,0.5281803542673108,0.5367762128325508,0.5281803542673108,0.5367762128325508,0.5281803542673108,0.5281803542673108,0.5281803542673108,0.5281803542673108,0.5281803542673108,0.5281803542673108,0.5281803542673108,0.5281803542673108,0.5281803542673108,0.5281803542673108,0.5281803542673108,0.5281803542673108,0.5281803542673108,0.5281803542673108,0.5281803542673108,0.5281803542673108,0.5281803542673108,0.5281803542673108,0.5367762128325508,0.5281803542673108,0.5367762128325508,0.5281803542673108,0.5281803542673108,0.5281803542673108,0.5281803542673108,0.5367762128325508,0.5281803542673108,0.5281803542673108,0.5281803542673108,0.5367762128325508,0.5281803542673108,0.5281803542673108,0.5281803542673108,0.5281803542673108,0.5367762128325508,0.5281803542673108,0.5281803542673108,0.5281803542673108,0.5281803542673108,0.5281803542673108,0.5281803542673108,0.5281803542673108,0.5281803542673108,0.5367762128325508,0.5281803542673108,0.5367762128325508,0.5281803542673108,0.5281803542673108,0.5281803542673108,0.5281803542673108,0.5281803542673108],\"yaxis\":\"y\",\"type\":\"scatter\"},{\"hovertemplate\":\"Group=UTR (5'/3') variants<br>mfe_vienna=%{x}<br>GC=%{y}<extra></extra>\",\"legendgroup\":\"UTR (5'/3') variants\",\"marker\":{\"color\":\"#00cc96\",\"symbol\":\"circle\"},\"mode\":\"markers\",\"name\":\"UTR (5'/3') variants\",\"orientation\":\"v\",\"showlegend\":true,\"x\":[-0.06479193769615975,-0.07088533980438788,-0.09706171794620072,-0.07440076219317905,-0.07559059306191136,-0.06580149599532212,-0.071245895946828,-0.0751939846062173,-0.09774677241617691,-0.07605931714741354,-0.07025436655511766,-0.06533277190981994,-0.07308472897228253,-0.07530215254927936,-0.09745832090024466,-0.07477934174142109,-0.06607191310215221,-0.05945570568771594,-0.0675141376719127,-0.09266292860711114,-0.0702904188683716,-0.05181191656831539,-0.05785123195418742,-0.059996539901376114,-0.06293507576325318,-0.08464055443781845,-0.08449633418150244,-0.06214185335021494,-0.059149236267631904,-0.05743659459104133,-0.05238880859687963,-0.05579606304260876],\"xaxis\":\"x\",\"y\":[0.5281803542673108,0.5281803542673108,0.5281803542673108,0.5281803542673108,0.5281803542673108,0.5281803542673108,0.5281803542673108,0.5281803542673108,0.5281803542673108,0.5281803542673108,0.5281803542673108,0.5281803542673108,0.5281803542673108,0.5281803542673108,0.5281803542673108,0.5281803542673108,0.5281803542673108,0.5281803542673108,0.5281803542673108,0.5281803542673108,0.5281803542673108,0.5281803542673108,0.5281803542673108,0.5281803542673108,0.5281803542673108,0.5281803542673108,0.5281803542673108,0.5281803542673108,0.5281803542673108,0.5281803542673108,0.5281803542673108,0.5367762128325508],\"yaxis\":\"y\",\"type\":\"scatter\"},{\"hovertemplate\":\"Group=CDS (eGFP) variants<br>mfe_vienna=%{x}<br>GC=%{y}<extra></extra>\",\"legendgroup\":\"CDS (eGFP) variants\",\"marker\":{\"color\":\"#ab63fa\",\"symbol\":\"circle\"},\"mode\":\"markers\",\"name\":\"CDS (eGFP) variants\",\"orientation\":\"v\",\"showlegend\":true,\"x\":[-0.0859205298438109,-0.08745289344918142,-0.07512187447805929,-0.07578890004058345,-0.09900871891471733,-0.09929715942734933,-0.1001084107478396,-0.09533104186050799,-0.08116118986393132,-0.0987743596227913,-0.0872365575630573,-0.07391400920022484,-0.06178129720777482,-0.062376212642140966],\"xaxis\":\"x\",\"y\":[0.6421052631578948,0.631578947368421,0.5988304093567252,0.5976608187134503,0.5964912280701754,0.6,0.6,0.569811320754717,0.5484276729559748,0.5207547169811321,0.49308176100628937,0.48930817610062893,0.4257309941520468,0.439766081871345],\"yaxis\":\"y\",\"type\":\"scatter\"},{\"hovertemplate\":\"Group=CDS (Nluc) variants<br>mfe_vienna=%{x}<br>GC=%{y}<extra></extra>\",\"legendgroup\":\"CDS (Nluc) variants\",\"marker\":{\"color\":\"#FFA15A\",\"symbol\":\"circle\"},\"mode\":\"markers\",\"name\":\"CDS (Nluc) variants\",\"orientation\":\"v\",\"showlegend\":true,\"x\":[-0.0680730007930249,-0.06832538899240297,-0.07047069693959167,-0.06890228102096721,-0.07077717186132582,-0.06926283716340732,-0.07002000176154151,-0.068487638156171,-0.0674420275437547,-0.06866791622739106,-0.055507617028326635,-0.056463094106783025,-0.0646116596249397,-0.06050132180178236,-0.05228064065381757,-0.0958177948534622,-0.05978020951690212,-0.0772130957028919,-0.05758081484735733,-0.05776109291857739,-0.08566814164443284,-0.08402761009600027,-0.08550588697901469,-0.0852354698721846,-0.08557800260882281,-0.08437013733098836,-0.08406366240925421,-0.08427999829537833,-0.052010223546987484,-0.05173980644015739,-0.06996592054083554,-0.08379324530242412,-0.0751939846062173,-0.07362556318594272,-0.06358407791997542,-0.059041068324569845,-0.0697315557472594,-0.06944311523462739,-0.08786753081232751,-0.06749610876446066,-0.06726174947253463,-0.06681105429448449,-0.0674420275437547,-0.06740596972885063,-0.08157582722707742,-0.05038772090600693,-0.07896179519438654,-0.07259798148097844,-0.05296569512379375,-0.058986987103863874,-0.07189489260190011,-0.07043464462633772,-0.06506235480298984,-0.05788728976909148,-0.07092139211764181,-0.06657668950090832,-0.047304964787813875,-0.06884819429861111,-0.05109080428343515,-0.05327217004552791,-0.05215444380330348,-0.05073024814099503,-0.05018941392733484,-0.05987034855251215,-0.056427036291878965,-0.04966660862112669,-0.052172472710755514,-0.06872200294974715,-0.05338033798858997,-0.06556713670339609,-0.05166769631199939,-0.037858394956212724,-0.03683081050042339,-0.050676166920289055,-0.03695700460011242,-0.03708319869980145,-0.03587533617279206,-0.037389670870710545],\"xaxis\":\"x\",\"y\":[0.6561561561561561,0.6561561561561561,0.6561561561561561,0.6561561561561561,0.6561561561561561,0.6561561561561561,0.6561561561561561,0.6561561561561561,0.6561561561561561,0.6561561561561561,0.5435435435435436,0.5405405405405406,0.596096096096096,0.5281803542673108,0.48948948948948945,0.5630630630630631,0.5375375375375375,0.6261261261261262,0.5405405405405406,0.509009009009009,0.572072072072072,0.5585585585585586,0.5705705705705706,0.5690690690690691,0.5705705705705706,0.5735735735735736,0.5735735735735736,0.572072072072072,0.512012012012012,0.48648648648648646,0.545045045045045,0.5630630630630631,0.5480480480480481,0.527027027027027,0.5405405405405406,0.493993993993994,0.572072072072072,0.5735735735735736,0.5435435435435436,0.5405405405405406,0.5405405405405406,0.5405405405405406,0.5405405405405406,0.5405405405405406,0.53003003003003,0.4954954954954955,0.539039039039039,0.5555555555555556,0.5135135135135136,0.5375375375375375,0.536036036036036,0.509009009009009,0.5225225225225225,0.5045045045045046,0.48948948948948945,0.503003003003003,0.5315315315315315,0.5180180180180181,0.49099099099099097,0.5,0.49099099099099097,0.487987987987988,0.484984984984985,0.4984984984984985,0.503003003003003,0.48948948948948945,0.47147147147147145,0.481981981981982,0.47297297297297297,0.48648648648648646,0.451951951951952,0.41891891891891897,0.3813813813813814,0.4624624624624624,0.42792792792792794,0.4264264264264264,0.36936936936936937,0.3663663663663664],\"yaxis\":\"y\",\"type\":\"scatter\"},{\"hovertemplate\":\"Group=CDS (MEV) variants<br>mfe_vienna=%{x}<br>GC=%{y}<extra></extra>\",\"legendgroup\":\"CDS (MEV) variants\",\"marker\":{\"color\":\"#19d3f3\",\"symbol\":\"circle\"},\"mode\":\"markers\",\"name\":\"CDS (MEV) variants\",\"orientation\":\"v\",\"showlegend\":true,\"x\":[-0.03998567674677445,-0.041481985288065966,-0.04117551036633182,-0.04117551036633182,-0.04126564940194184,-0.03899414735506412,-0.034054526553139425,-0.04209492962988415,-0.04038228795329357],\"xaxis\":\"x\",\"y\":[0.6938775510204082,0.6734693877551021,0.7074829931972789,0.6111111111111112,0.6805555555555556,0.6805555555555556,0.5555555555555556,0.6597222222222223,0.6388888888888888],\"yaxis\":\"y\",\"type\":\"scatter\"},{\"hovertemplate\":\"Group=UTR (3') variants<br>mfe_vienna=%{x}<br>GC=%{y}<extra></extra>\",\"legendgroup\":\"UTR (3') variants\",\"marker\":{\"color\":\"#FF6692\",\"symbol\":\"circle\"},\"mode\":\"markers\",\"name\":\"UTR (3') variants\",\"orientation\":\"v\",\"showlegend\":true,\"x\":[-0.0516136095896433,-0.05631886834881691,-0.04582668515397439,-0.07157039427436405,-0.07225544874434024,-0.07211303302926447,-0.052857532682381816,-0.049197884535624514,-0.04901760646440445,-0.07685253956045178,-0.07122786703937596,-0.055020869537022545,-0.061853407335932815,-0.059996539901376114,-0.05579606304260876,-0.05552564593577866,-0.07584298676293955,-0.08379324530242412,-0.0573464555554313],\"xaxis\":\"x\",\"y\":[0.5281803542673108,0.5281803542673108,0.5281803542673108,0.5281803542673108,0.5281803542673108,0.5281803542673108,0.5281803542673108,0.5281803542673108,0.5281803542673108,0.5281803542673108,0.5281803542673108,0.5281803542673108,0.5281803542673108,0.5281803542673108,0.5281803542673108,0.5281803542673108,0.5281803542673108,0.5281803542673108,0.5281803542673108],\"yaxis\":\"y\",\"type\":\"scatter\"},{\"hovertemplate\":\"Group=hHBB Nluc<br>mfe_vienna=%{x}<br>GC=%{y}<extra></extra>\",\"legendgroup\":\"hHBB Nluc\",\"marker\":{\"color\":\"#B6E880\",\"symbol\":\"circle\"},\"mode\":\"markers\",\"name\":\"hHBB Nluc\",\"orientation\":\"v\",\"showlegend\":true,\"x\":[-0.05036969199855491],\"xaxis\":\"x\",\"y\":[0.5281803542673108],\"yaxis\":\"y\",\"type\":\"scatter\"},{\"hovertemplate\":\"Group=hHBB NlucP<br>mfe_vienna=%{x}<br>GC=%{y}<extra></extra>\",\"legendgroup\":\"hHBB NlucP\",\"marker\":{\"color\":\"#FF97FF\",\"symbol\":\"circle\"},\"mode\":\"markers\",\"name\":\"hHBB NlucP\",\"orientation\":\"v\",\"showlegend\":true,\"x\":[-0.053885114387346084],\"xaxis\":\"x\",\"y\":[0.5367762128325508],\"yaxis\":\"y\",\"type\":\"scatter\"}],                        {\"template\":{\"data\":{\"bar\":[{\"error_x\":{\"color\":\"#2a3f5f\"},\"error_y\":{\"color\":\"#2a3f5f\"},\"marker\":{\"line\":{\"color\":\"#E5ECF6\",\"width\":0.5},\"pattern\":{\"fillmode\":\"overlay\",\"size\":10,\"solidity\":0.2}},\"type\":\"bar\"}],\"barpolar\":[{\"marker\":{\"line\":{\"color\":\"#E5ECF6\",\"width\":0.5},\"pattern\":{\"fillmode\":\"overlay\",\"size\":10,\"solidity\":0.2}},\"type\":\"barpolar\"}],\"carpet\":[{\"aaxis\":{\"endlinecolor\":\"#2a3f5f\",\"gridcolor\":\"white\",\"linecolor\":\"white\",\"minorgridcolor\":\"white\",\"startlinecolor\":\"#2a3f5f\"},\"baxis\":{\"endlinecolor\":\"#2a3f5f\",\"gridcolor\":\"white\",\"linecolor\":\"white\",\"minorgridcolor\":\"white\",\"startlinecolor\":\"#2a3f5f\"},\"type\":\"carpet\"}],\"choropleth\":[{\"colorbar\":{\"outlinewidth\":0,\"ticks\":\"\"},\"type\":\"choropleth\"}],\"contour\":[{\"colorbar\":{\"outlinewidth\":0,\"ticks\":\"\"},\"colorscale\":[[0.0,\"#0d0887\"],[0.1111111111111111,\"#46039f\"],[0.2222222222222222,\"#7201a8\"],[0.3333333333333333,\"#9c179e\"],[0.4444444444444444,\"#bd3786\"],[0.5555555555555556,\"#d8576b\"],[0.6666666666666666,\"#ed7953\"],[0.7777777777777778,\"#fb9f3a\"],[0.8888888888888888,\"#fdca26\"],[1.0,\"#f0f921\"]],\"type\":\"contour\"}],\"contourcarpet\":[{\"colorbar\":{\"outlinewidth\":0,\"ticks\":\"\"},\"type\":\"contourcarpet\"}],\"heatmap\":[{\"colorbar\":{\"outlinewidth\":0,\"ticks\":\"\"},\"colorscale\":[[0.0,\"#0d0887\"],[0.1111111111111111,\"#46039f\"],[0.2222222222222222,\"#7201a8\"],[0.3333333333333333,\"#9c179e\"],[0.4444444444444444,\"#bd3786\"],[0.5555555555555556,\"#d8576b\"],[0.6666666666666666,\"#ed7953\"],[0.7777777777777778,\"#fb9f3a\"],[0.8888888888888888,\"#fdca26\"],[1.0,\"#f0f921\"]],\"type\":\"heatmap\"}],\"heatmapgl\":[{\"colorbar\":{\"outlinewidth\":0,\"ticks\":\"\"},\"colorscale\":[[0.0,\"#0d0887\"],[0.1111111111111111,\"#46039f\"],[0.2222222222222222,\"#7201a8\"],[0.3333333333333333,\"#9c179e\"],[0.4444444444444444,\"#bd3786\"],[0.5555555555555556,\"#d8576b\"],[0.6666666666666666,\"#ed7953\"],[0.7777777777777778,\"#fb9f3a\"],[0.8888888888888888,\"#fdca26\"],[1.0,\"#f0f921\"]],\"type\":\"heatmapgl\"}],\"histogram\":[{\"marker\":{\"pattern\":{\"fillmode\":\"overlay\",\"size\":10,\"solidity\":0.2}},\"type\":\"histogram\"}],\"histogram2d\":[{\"colorbar\":{\"outlinewidth\":0,\"ticks\":\"\"},\"colorscale\":[[0.0,\"#0d0887\"],[0.1111111111111111,\"#46039f\"],[0.2222222222222222,\"#7201a8\"],[0.3333333333333333,\"#9c179e\"],[0.4444444444444444,\"#bd3786\"],[0.5555555555555556,\"#d8576b\"],[0.6666666666666666,\"#ed7953\"],[0.7777777777777778,\"#fb9f3a\"],[0.8888888888888888,\"#fdca26\"],[1.0,\"#f0f921\"]],\"type\":\"histogram2d\"}],\"histogram2dcontour\":[{\"colorbar\":{\"outlinewidth\":0,\"ticks\":\"\"},\"colorscale\":[[0.0,\"#0d0887\"],[0.1111111111111111,\"#46039f\"],[0.2222222222222222,\"#7201a8\"],[0.3333333333333333,\"#9c179e\"],[0.4444444444444444,\"#bd3786\"],[0.5555555555555556,\"#d8576b\"],[0.6666666666666666,\"#ed7953\"],[0.7777777777777778,\"#fb9f3a\"],[0.8888888888888888,\"#fdca26\"],[1.0,\"#f0f921\"]],\"type\":\"histogram2dcontour\"}],\"mesh3d\":[{\"colorbar\":{\"outlinewidth\":0,\"ticks\":\"\"},\"type\":\"mesh3d\"}],\"parcoords\":[{\"line\":{\"colorbar\":{\"outlinewidth\":0,\"ticks\":\"\"}},\"type\":\"parcoords\"}],\"pie\":[{\"automargin\":true,\"type\":\"pie\"}],\"scatter\":[{\"marker\":{\"colorbar\":{\"outlinewidth\":0,\"ticks\":\"\"}},\"type\":\"scatter\"}],\"scatter3d\":[{\"line\":{\"colorbar\":{\"outlinewidth\":0,\"ticks\":\"\"}},\"marker\":{\"colorbar\":{\"outlinewidth\":0,\"ticks\":\"\"}},\"type\":\"scatter3d\"}],\"scattercarpet\":[{\"marker\":{\"colorbar\":{\"outlinewidth\":0,\"ticks\":\"\"}},\"type\":\"scattercarpet\"}],\"scattergeo\":[{\"marker\":{\"colorbar\":{\"outlinewidth\":0,\"ticks\":\"\"}},\"type\":\"scattergeo\"}],\"scattergl\":[{\"marker\":{\"colorbar\":{\"outlinewidth\":0,\"ticks\":\"\"}},\"type\":\"scattergl\"}],\"scattermapbox\":[{\"marker\":{\"colorbar\":{\"outlinewidth\":0,\"ticks\":\"\"}},\"type\":\"scattermapbox\"}],\"scatterpolar\":[{\"marker\":{\"colorbar\":{\"outlinewidth\":0,\"ticks\":\"\"}},\"type\":\"scatterpolar\"}],\"scatterpolargl\":[{\"marker\":{\"colorbar\":{\"outlinewidth\":0,\"ticks\":\"\"}},\"type\":\"scatterpolargl\"}],\"scatterternary\":[{\"marker\":{\"colorbar\":{\"outlinewidth\":0,\"ticks\":\"\"}},\"type\":\"scatterternary\"}],\"surface\":[{\"colorbar\":{\"outlinewidth\":0,\"ticks\":\"\"},\"colorscale\":[[0.0,\"#0d0887\"],[0.1111111111111111,\"#46039f\"],[0.2222222222222222,\"#7201a8\"],[0.3333333333333333,\"#9c179e\"],[0.4444444444444444,\"#bd3786\"],[0.5555555555555556,\"#d8576b\"],[0.6666666666666666,\"#ed7953\"],[0.7777777777777778,\"#fb9f3a\"],[0.8888888888888888,\"#fdca26\"],[1.0,\"#f0f921\"]],\"type\":\"surface\"}],\"table\":[{\"cells\":{\"fill\":{\"color\":\"#EBF0F8\"},\"line\":{\"color\":\"white\"}},\"header\":{\"fill\":{\"color\":\"#C8D4E3\"},\"line\":{\"color\":\"white\"}},\"type\":\"table\"}]},\"layout\":{\"annotationdefaults\":{\"arrowcolor\":\"#2a3f5f\",\"arrowhead\":0,\"arrowwidth\":1},\"autotypenumbers\":\"strict\",\"coloraxis\":{\"colorbar\":{\"outlinewidth\":0,\"ticks\":\"\"}},\"colorscale\":{\"diverging\":[[0,\"#8e0152\"],[0.1,\"#c51b7d\"],[0.2,\"#de77ae\"],[0.3,\"#f1b6da\"],[0.4,\"#fde0ef\"],[0.5,\"#f7f7f7\"],[0.6,\"#e6f5d0\"],[0.7,\"#b8e186\"],[0.8,\"#7fbc41\"],[0.9,\"#4d9221\"],[1,\"#276419\"]],\"sequential\":[[0.0,\"#0d0887\"],[0.1111111111111111,\"#46039f\"],[0.2222222222222222,\"#7201a8\"],[0.3333333333333333,\"#9c179e\"],[0.4444444444444444,\"#bd3786\"],[0.5555555555555556,\"#d8576b\"],[0.6666666666666666,\"#ed7953\"],[0.7777777777777778,\"#fb9f3a\"],[0.8888888888888888,\"#fdca26\"],[1.0,\"#f0f921\"]],\"sequentialminus\":[[0.0,\"#0d0887\"],[0.1111111111111111,\"#46039f\"],[0.2222222222222222,\"#7201a8\"],[0.3333333333333333,\"#9c179e\"],[0.4444444444444444,\"#bd3786\"],[0.5555555555555556,\"#d8576b\"],[0.6666666666666666,\"#ed7953\"],[0.7777777777777778,\"#fb9f3a\"],[0.8888888888888888,\"#fdca26\"],[1.0,\"#f0f921\"]]},\"colorway\":[\"#636efa\",\"#EF553B\",\"#00cc96\",\"#ab63fa\",\"#FFA15A\",\"#19d3f3\",\"#FF6692\",\"#B6E880\",\"#FF97FF\",\"#FECB52\"],\"font\":{\"color\":\"#2a3f5f\"},\"geo\":{\"bgcolor\":\"white\",\"lakecolor\":\"white\",\"landcolor\":\"#E5ECF6\",\"showlakes\":true,\"showland\":true,\"subunitcolor\":\"white\"},\"hoverlabel\":{\"align\":\"left\"},\"hovermode\":\"closest\",\"mapbox\":{\"style\":\"light\"},\"paper_bgcolor\":\"white\",\"plot_bgcolor\":\"#E5ECF6\",\"polar\":{\"angularaxis\":{\"gridcolor\":\"white\",\"linecolor\":\"white\",\"ticks\":\"\"},\"bgcolor\":\"#E5ECF6\",\"radialaxis\":{\"gridcolor\":\"white\",\"linecolor\":\"white\",\"ticks\":\"\"}},\"scene\":{\"xaxis\":{\"backgroundcolor\":\"#E5ECF6\",\"gridcolor\":\"white\",\"gridwidth\":2,\"linecolor\":\"white\",\"showbackground\":true,\"ticks\":\"\",\"zerolinecolor\":\"white\"},\"yaxis\":{\"backgroundcolor\":\"#E5ECF6\",\"gridcolor\":\"white\",\"gridwidth\":2,\"linecolor\":\"white\",\"showbackground\":true,\"ticks\":\"\",\"zerolinecolor\":\"white\"},\"zaxis\":{\"backgroundcolor\":\"#E5ECF6\",\"gridcolor\":\"white\",\"gridwidth\":2,\"linecolor\":\"white\",\"showbackground\":true,\"ticks\":\"\",\"zerolinecolor\":\"white\"}},\"shapedefaults\":{\"line\":{\"color\":\"#2a3f5f\"}},\"ternary\":{\"aaxis\":{\"gridcolor\":\"white\",\"linecolor\":\"white\",\"ticks\":\"\"},\"baxis\":{\"gridcolor\":\"white\",\"linecolor\":\"white\",\"ticks\":\"\"},\"bgcolor\":\"#E5ECF6\",\"caxis\":{\"gridcolor\":\"white\",\"linecolor\":\"white\",\"ticks\":\"\"}},\"title\":{\"x\":0.05},\"xaxis\":{\"automargin\":true,\"gridcolor\":\"white\",\"linecolor\":\"white\",\"ticks\":\"\",\"title\":{\"standoff\":15},\"zerolinecolor\":\"white\",\"zerolinewidth\":2},\"yaxis\":{\"automargin\":true,\"gridcolor\":\"white\",\"linecolor\":\"white\",\"ticks\":\"\",\"title\":{\"standoff\":15},\"zerolinecolor\":\"white\",\"zerolinewidth\":2}}},\"xaxis\":{\"anchor\":\"y\",\"domain\":[0.0,1.0],\"title\":{\"text\":\"mfe_vienna\"}},\"yaxis\":{\"anchor\":\"x\",\"domain\":[0.0,1.0],\"title\":{\"text\":\"GC\"}},\"legend\":{\"title\":{\"text\":\"Group\"},\"tracegroupgap\":0},\"margin\":{\"t\":60}},                        {\"responsive\": true}                    ).then(function(){\n",
              "                            \n",
              "var gd = document.getElementById('d9021b4b-b80b-4f3c-97e6-9dad288d4d77');\n",
              "var x = new MutationObserver(function (mutations, observer) {{\n",
              "        var display = window.getComputedStyle(gd).display;\n",
              "        if (!display || display === 'none') {{\n",
              "            console.log([gd, 'removed!']);\n",
              "            Plotly.purge(gd);\n",
              "            observer.disconnect();\n",
              "        }}\n",
              "}});\n",
              "\n",
              "// Listen for the removal of the full notebook cells\n",
              "var notebookContainer = gd.closest('#notebook-container');\n",
              "if (notebookContainer) {{\n",
              "    x.observe(notebookContainer, {childList: true});\n",
              "}}\n",
              "\n",
              "// Listen for the clearing of the current output cell\n",
              "var outputEl = gd.closest('.output');\n",
              "if (outputEl) {{\n",
              "    x.observe(outputEl, {childList: true});\n",
              "}}\n",
              "\n",
              "                        })                };                            </script>        </div>\n",
              "</body>\n",
              "</html>"
            ]
          },
          "metadata": {}
        }
      ]
    },
    {
      "cell_type": "code",
      "source": [
        "###END\n",
        "##I will continue with RNA sequence parameters: SUP and EternaFold data\n",
        "#Ángel Cantero-Camacho PhD"
      ],
      "metadata": {
        "id": "4ysW6O53alEv"
      },
      "execution_count": null,
      "outputs": []
    },
    {
      "cell_type": "markdown",
      "source": [
        "https://www.linkedin.com/in/biocanter/\n"
      ],
      "metadata": {
        "id": "PIMlUz63f0D-"
      }
    }
  ]
}